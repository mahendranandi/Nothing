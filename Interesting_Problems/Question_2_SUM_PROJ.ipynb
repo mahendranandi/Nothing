{
 "cells": [
  {
   "cell_type": "markdown",
   "metadata": {},
   "source": [
    "# \n",
    "Mahendra Nandi \\\n",
    "[BDA,RKMVERI-2020](http://cs.rkmvu.ac.in/)"
   ]
  },
  {
   "cell_type": "markdown",
   "metadata": {},
   "source": [
    "# Question_2"
   ]
  },
  {
   "cell_type": "markdown",
   "metadata": {},
   "source": [
    "Consider a $2000\\times2000$ image I, where all pixels in the left half (first 1000 columns) are white and those in the right half (last 1000 columns) are black. A new image ($I_{new}$) of the same size is formed from I by shuffling the pixel locations. Let $D$ denotes the Euclidean distance between I and $I_{new}$. What is the total number of possible $I_{new}$ images? What is the average of $D$ across all these possible $I_{new}$ images? Explain your answer. *\n",
    "----------------\n"
   ]
  },
  {
   "cell_type": "markdown",
   "metadata": {},
   "source": []
  },
  {
   "cell_type": "code",
   "execution_count": 43,
   "metadata": {},
   "outputs": [
    {
     "name": "stdout",
     "output_type": "stream",
     "text": [
      "Requirement already satisfied: ipython-autotime in /home/sysadm/anaconda3/lib/python3.8/site-packages (0.3.1)\n",
      "Requirement already satisfied: ipython in /home/sysadm/anaconda3/lib/python3.8/site-packages (from ipython-autotime) (7.22.0)\n",
      "Requirement already satisfied: setuptools>=18.5 in /home/sysadm/anaconda3/lib/python3.8/site-packages (from ipython->ipython-autotime) (52.0.0.post20210125)\n",
      "Requirement already satisfied: jedi>=0.16 in /home/sysadm/anaconda3/lib/python3.8/site-packages (from ipython->ipython-autotime) (0.17.2)\n",
      "Requirement already satisfied: traitlets>=4.2 in /home/sysadm/anaconda3/lib/python3.8/site-packages (from ipython->ipython-autotime) (5.0.5)\n",
      "Requirement already satisfied: prompt-toolkit!=3.0.0,!=3.0.1,<3.1.0,>=2.0.0 in /home/sysadm/anaconda3/lib/python3.8/site-packages (from ipython->ipython-autotime) (3.0.17)\n",
      "Requirement already satisfied: pickleshare in /home/sysadm/anaconda3/lib/python3.8/site-packages (from ipython->ipython-autotime) (0.7.5)\n",
      "Requirement already satisfied: decorator in /home/sysadm/anaconda3/lib/python3.8/site-packages (from ipython->ipython-autotime) (5.0.6)\n",
      "Requirement already satisfied: pygments in /home/sysadm/anaconda3/lib/python3.8/site-packages (from ipython->ipython-autotime) (2.8.1)\n",
      "Requirement already satisfied: pexpect>4.3 in /home/sysadm/anaconda3/lib/python3.8/site-packages (from ipython->ipython-autotime) (4.8.0)\n",
      "Requirement already satisfied: backcall in /home/sysadm/anaconda3/lib/python3.8/site-packages (from ipython->ipython-autotime) (0.2.0)\n",
      "Requirement already satisfied: parso<0.8.0,>=0.7.0 in /home/sysadm/anaconda3/lib/python3.8/site-packages (from jedi>=0.16->ipython->ipython-autotime) (0.7.0)\n",
      "Requirement already satisfied: ptyprocess>=0.5 in /home/sysadm/anaconda3/lib/python3.8/site-packages (from pexpect>4.3->ipython->ipython-autotime) (0.7.0)\n",
      "Requirement already satisfied: wcwidth in /home/sysadm/anaconda3/lib/python3.8/site-packages (from prompt-toolkit!=3.0.0,!=3.0.1,<3.1.0,>=2.0.0->ipython->ipython-autotime) (0.2.5)\n",
      "Requirement already satisfied: ipython-genutils in /home/sysadm/anaconda3/lib/python3.8/site-packages (from traitlets>=4.2->ipython->ipython-autotime) (0.2.0)\n",
      "The autotime extension is already loaded. To reload it, use:\n",
      "  %reload_ext autotime\n",
      "time: 1.18 s (started: 2021-07-21 00:39:13 +05:30)\n"
     ]
    }
   ],
   "source": [
    "!pip install ipython-autotime\n",
    "\n",
    "%load_ext autotime"
   ]
  },
  {
   "cell_type": "code",
   "execution_count": 44,
   "metadata": {},
   "outputs": [
    {
     "name": "stdout",
     "output_type": "stream",
     "text": [
      "time: 1.51 ms (started: 2021-07-21 00:39:17 +05:30)\n"
     ]
    }
   ],
   "source": [
    "import numpy as np\n",
    "import math\n",
    "import matplotlib.pyplot as plt\n",
    "%matplotlib inline"
   ]
  },
  {
   "cell_type": "markdown",
   "metadata": {},
   "source": [
    "## Index value generated For a 4X4 Matrix"
   ]
  },
  {
   "cell_type": "code",
   "execution_count": 45,
   "metadata": {
    "scrolled": true
   },
   "outputs": [
    {
     "data": {
      "text/plain": [
       "array([[1, 1],\n",
       "       [1, 1],\n",
       "       [1, 1],\n",
       "       [1, 1]])"
      ]
     },
     "execution_count": 45,
     "metadata": {},
     "output_type": "execute_result"
    },
    {
     "name": "stdout",
     "output_type": "stream",
     "text": [
      "time: 3.04 ms (started: 2021-07-21 00:39:18 +05:30)\n"
     ]
    }
   ],
   "source": [
    "mat1=np.ones((4,2),dtype=np.int)\n",
    "mat1"
   ]
  },
  {
   "cell_type": "code",
   "execution_count": 46,
   "metadata": {},
   "outputs": [
    {
     "data": {
      "text/plain": [
       "array([[0, 0],\n",
       "       [0, 0],\n",
       "       [0, 0],\n",
       "       [0, 0]])"
      ]
     },
     "execution_count": 46,
     "metadata": {},
     "output_type": "execute_result"
    },
    {
     "name": "stdout",
     "output_type": "stream",
     "text": [
      "time: 2.87 ms (started: 2021-07-21 00:39:18 +05:30)\n"
     ]
    }
   ],
   "source": [
    "mat2=np.zeros((4,2),dtype=np.int)\n",
    "mat2"
   ]
  },
  {
   "cell_type": "code",
   "execution_count": 47,
   "metadata": {},
   "outputs": [
    {
     "name": "stdout",
     "output_type": "stream",
     "text": [
      "time: 543 µs (started: 2021-07-21 00:39:18 +05:30)\n"
     ]
    }
   ],
   "source": [
    "mat = np.concatenate((mat1,mat2),axis=1)"
   ]
  },
  {
   "cell_type": "code",
   "execution_count": 48,
   "metadata": {},
   "outputs": [
    {
     "data": {
      "text/plain": [
       "array([[1, 1, 0, 0],\n",
       "       [1, 1, 0, 0],\n",
       "       [1, 1, 0, 0],\n",
       "       [1, 1, 0, 0]])"
      ]
     },
     "execution_count": 48,
     "metadata": {},
     "output_type": "execute_result"
    },
    {
     "name": "stdout",
     "output_type": "stream",
     "text": [
      "time: 2.04 ms (started: 2021-07-21 00:39:18 +05:30)\n"
     ]
    }
   ],
   "source": [
    "mat"
   ]
  },
  {
   "cell_type": "code",
   "execution_count": 49,
   "metadata": {},
   "outputs": [
    {
     "data": {
      "text/plain": [
       "<matplotlib.image.AxesImage at 0x7ff6809812b0>"
      ]
     },
     "execution_count": 49,
     "metadata": {},
     "output_type": "execute_result"
    },
    {
     "data": {
      "image/png": "[encoded data removed]",
      "text/plain": [
       "<Figure size 432x288 with 1 Axes>"
      ]
     },
     "metadata": {
      "needs_background": "light"
     },
     "output_type": "display_data"
    },
    {
     "name": "stdout",
     "output_type": "stream",
     "text": [
      "time: 72.4 ms (started: 2021-07-21 00:39:18 +05:30)\n"
     ]
    }
   ],
   "source": [
    "plt.imshow(mat,cmap=\"gray\")"
   ]
  },
  {
   "cell_type": "code",
   "execution_count": 50,
   "metadata": {},
   "outputs": [
    {
     "data": {
      "text/plain": [
       "(4, 4)"
      ]
     },
     "execution_count": 50,
     "metadata": {},
     "output_type": "execute_result"
    },
    {
     "name": "stdout",
     "output_type": "stream",
     "text": [
      "time: 1.87 ms (started: 2021-07-21 00:39:19 +05:30)\n"
     ]
    }
   ],
   "source": [
    "mat.shape"
   ]
  },
  {
   "cell_type": "code",
   "execution_count": 51,
   "metadata": {
    "tags": []
   },
   "outputs": [
    {
     "data": {
      "text/plain": [
       "[[0, 0],\n",
       " [0, 1],\n",
       " [0, 2],\n",
       " [0, 3],\n",
       " [1, 0],\n",
       " [1, 1],\n",
       " [1, 2],\n",
       " [1, 3],\n",
       " [2, 0],\n",
       " [2, 1],\n",
       " [2, 2],\n",
       " [2, 3],\n",
       " [3, 0],\n",
       " [3, 1],\n",
       " [3, 2],\n",
       " [3, 3]]"
      ]
     },
     "execution_count": 51,
     "metadata": {},
     "output_type": "execute_result"
    },
    {
     "name": "stdout",
     "output_type": "stream",
     "text": [
      "time: 3.35 ms (started: 2021-07-21 00:39:19 +05:30)\n"
     ]
    }
   ],
   "source": [
    "A=[]\n",
    "for i in range(4):\n",
    "    for j in range(4):\n",
    "        A.append([i,j])\n",
    "A        "
   ]
  },
  {
   "cell_type": "code",
   "execution_count": 52,
   "metadata": {
    "jupyter": {
     "outputs_hidden": true
    },
    "tags": []
   },
   "outputs": [
    {
     "name": "stdout",
     "output_type": "stream",
     "text": [
      "time: 190 µs (started: 2021-07-21 00:39:19 +05:30)\n"
     ]
    }
   ],
   "source": [
    "# B=[]\n",
    "# for i in range (len(A)):\n",
    "#     for j in range(i+1,len(A)):\n",
    "#         B.append([A[i][0],A[i][1],A[j][0],A[j][1]])\n",
    "\n",
    "# #len(B)\n",
    "# B"
   ]
  },
  {
   "cell_type": "code",
   "execution_count": null,
   "metadata": {},
   "outputs": [],
   "source": []
  },
  {
   "cell_type": "markdown",
   "metadata": {},
   "source": [
    "### Distance Vector Generated"
   ]
  },
  {
   "cell_type": "markdown",
   "metadata": {},
   "source": [
    "## Functional Representation"
   ]
  },
  {
   "cell_type": "code",
   "execution_count": 53,
   "metadata": {},
   "outputs": [
    {
     "name": "stdout",
     "output_type": "stream",
     "text": [
      "time: 500 µs (started: 2021-07-21 00:39:20 +05:30)\n"
     ]
    }
   ],
   "source": [
    "def Distance_Generation(image_height,image_width):\n",
    "    \"\"\"\n",
    "    image_height: Height of the image\n",
    "    image_width: Width of the image\n",
    "    \"\"\"\n",
    "    Dist=[]\n",
    "    r=image_height*image_width\n",
    "    m=np.int(r/2+1)\n",
    "    for i in range(m):\n",
    "        Dist.append(np.sqrt(i*2))\n",
    "    return Dist"
   ]
  },
  {
   "cell_type": "markdown",
   "metadata": {},
   "source": [
    "### Number Of Candidate Points "
   ]
  },
  {
   "cell_type": "code",
   "execution_count": 54,
   "metadata": {},
   "outputs": [
    {
     "name": "stdout",
     "output_type": "stream",
     "text": [
      "time: 526 µs (started: 2021-07-21 00:39:20 +05:30)\n"
     ]
    }
   ],
   "source": [
    "def Candidate_Points(image_height,image_width):\n",
    "    \"\"\"\n",
    "    image_height: Height of the image\n",
    "    image_width: Width of the image\n",
    "    \"\"\"\n",
    "    r=image_height*image_width\n",
    "    Candidates=[]\n",
    "    m=np.int(r/2+1)\n",
    "    for i in range(m):\n",
    "        Candidates.append((math.comb(np.int(r/2),i))**2)\n",
    "    return Candidates"
   ]
  },
  {
   "cell_type": "markdown",
   "metadata": {},
   "source": [
    "## Average Euclidean Distance"
   ]
  },
  {
   "cell_type": "code",
   "execution_count": 55,
   "metadata": {},
   "outputs": [
    {
     "name": "stdout",
     "output_type": "stream",
     "text": [
      "time: 530 µs (started: 2021-07-21 00:39:20 +05:30)\n"
     ]
    }
   ],
   "source": [
    "def avg_euclidean_dist(image_height,image_width):\n",
    "    \"\"\"\n",
    "    image_height: Height of the image\n",
    "    image_width: Width of the image\n",
    "    \"\"\"\n",
    "    dist=Distance_Generation(image_height,image_width)\n",
    "    cand=Candidate_Points(image_height,image_width)\n",
    "    k=list(np.array(dist)*np.array(cand))\n",
    "    total=(math.factorial(image_height*image_width)/np.square(math.factorial((image_height*image_width)/2)))\n",
    "    return sum(k)/total"
   ]
  },
  {
   "cell_type": "code",
   "execution_count": 56,
   "metadata": {},
   "outputs": [
    {
     "data": {
      "text/plain": [
       "2.803079012737049"
      ]
     },
     "execution_count": 56,
     "metadata": {},
     "output_type": "execute_result"
    },
    {
     "name": "stdout",
     "output_type": "stream",
     "text": [
      "time: 1.91 ms (started: 2021-07-21 00:39:20 +05:30)\n"
     ]
    }
   ],
   "source": [
    "avg_euclidean_dist(4,4)"
   ]
  },
  {
   "cell_type": "code",
   "execution_count": 57,
   "metadata": {},
   "outputs": [
    {
     "data": {
      "text/plain": [
       "[0.0,\n",
       " 1.4142135623730951,\n",
       " 2.0,\n",
       " 2.449489742783178,\n",
       " 2.8284271247461903,\n",
       " 3.1622776601683795,\n",
       " 3.4641016151377544,\n",
       " 3.7416573867739413,\n",
       " 4.0]"
      ]
     },
     "execution_count": 57,
     "metadata": {},
     "output_type": "execute_result"
    },
    {
     "name": "stdout",
     "output_type": "stream",
     "text": [
      "time: 2.15 ms (started: 2021-07-21 00:39:21 +05:30)\n"
     ]
    }
   ],
   "source": [
    "Distance_Generation(4,4)"
   ]
  },
  {
   "cell_type": "code",
   "execution_count": null,
   "metadata": {},
   "outputs": [],
   "source": []
  },
  {
   "cell_type": "markdown",
   "metadata": {},
   "source": [
    "# in one function "
   ]
  },
  {
   "cell_type": "code",
   "execution_count": null,
   "metadata": {},
   "outputs": [],
   "source": []
  },
  {
   "cell_type": "markdown",
   "metadata": {},
   "source": [
    "$ $\n"
   ]
  },
  {
   "cell_type": "markdown",
   "metadata": {},
   "source": [
    "Initially I have put the following example for easy understand, taking an image of 2x2 and showing the algorithm. and at the last porting I explained the ${(^{n^2 /2}C_i)}^2$ term as well with taking another example of 4x4 image.\n",
    "<img src=\"solution.jpeg\">\n",
    "\n",
    "So, in general for an image nxn where n is even, the problem reduced to:\n",
    "\n",
    "\n",
    "$$\\Bigg[ \\frac{sum([ \\ 0,\\sqrt{2},\\sqrt{4},\\sqrt{6},..,\\sqrt{n^2} \\ ]*[(^{n^2/2}C_0)^2,(^{n^2/2}C_1)^2,(^{n^2/2}C_2)^2,(^{n^2/2}C_3)^2,..,(^{n^2/2}C_{^{n^2/2}} ] )}  {\\frac{(n^2!)} {(n^2/2!)(n^2/2!)}}  \\Bigg]$$ (* denotes point wise multiplication of those two lists)\n",
    "\n",
    "\n",
    " $$= \\displaystyle \\Bigg[\\frac{\\sum \\limits _{i=0} ^{n^2/2} (^{n^2/2}C_i)^2 \\sqrt{2i}}   {\\sum \\limits _{i=0} ^{n^2/2} (^{n^2/2}C_i)^2}\\Bigg]$$"
   ]
  },
  {
   "cell_type": "code",
   "execution_count": null,
   "metadata": {},
   "outputs": [],
   "source": []
  },
  {
   "cell_type": "code",
   "execution_count": 58,
   "metadata": {},
   "outputs": [
    {
     "name": "stdout",
     "output_type": "stream",
     "text": [
      "time: 821 µs (started: 2021-07-21 00:39:21 +05:30)\n"
     ]
    }
   ],
   "source": [
    "import numpy as np\n",
    "import math\n",
    "\n",
    "# we are using here images with same height and width. So, here image_dimension = n if image is of nxn dims.\n",
    "# Distances is a list of Euclidean distances of every 'I_new' vectors from 'I' vector.\n",
    "# Candidates is another list containing the no of vectors having same distance (accordance with the list 'Distances')\n",
    "#      so, the length of these two lists are same.\n",
    "def get_average_distance(image_dimension):\n",
    "    \n",
    "    Distances=[]\n",
    "    Candidates=[]\n",
    "    no_of_pixels=image_dimension*image_dimension\n",
    "    m=np.int((no_of_pixels/2) + 1)\n",
    "    for i in range(m):\n",
    "        Distances.append(np.sqrt(i*2))\n",
    "#     print(\"Distances = {}\".format(Distances))\n",
    "    for i in range(m):\n",
    "        Candidates.append((math.comb(np.int(no_of_pixels/2),i))**2)\n",
    "#     print(\"\\nCandidates = {}\".format(Candidates))\n",
    "    total_distances=list(np.array(Distances)*np.array(Candidates))\n",
    "#     print(\"\\ntotal_distances = {}\".format(total_distances))\n",
    "    no_of_total_vector=int(math.factorial(no_of_pixels)/np.square(math.factorial((no_of_pixels)/2)))\n",
    "#     print(\"\\n\\nno_of_total_vector = {}\".format(sum(Candidates)))\n",
    "    if no_of_total_vector == sum(Candidates):\n",
    "        print(\"\\n\\nYou have done correct calculation.\\nThe total no of possible image vector after shuffle is : {}\".format(int(sum(Candidates))))\n",
    "    return print(\"\\n\\nThe average Euclidean distance of 'I_new' from 'I' is : {:.3f}\".format(sum(total_distances)/sum(Candidates)))"
   ]
  },
  {
   "cell_type": "code",
   "execution_count": 59,
   "metadata": {},
   "outputs": [
    {
     "name": "stdout",
     "output_type": "stream",
     "text": [
      "\n",
      "\n",
      "You have done correct calculation.\n",
      "The total no of possible image vector after shuffle is : 6\n",
      "\n",
      "\n",
      "The average Euclidean distance of 'I_new' from 'I' is : 1.276\n",
      "time: 595 µs (started: 2021-07-21 00:39:22 +05:30)\n"
     ]
    }
   ],
   "source": [
    "get_average_distance(2)"
   ]
  },
  {
   "cell_type": "code",
   "execution_count": 60,
   "metadata": {},
   "outputs": [
    {
     "name": "stdout",
     "output_type": "stream",
     "text": [
      "\n",
      "\n",
      "You have done correct calculation.\n",
      "The total no of possible image vector after shuffle is : 12870\n",
      "\n",
      "\n",
      "The average Euclidean distance of 'I_new' from 'I' is : 2.803\n",
      "time: 551 µs (started: 2021-07-21 00:39:22 +05:30)\n"
     ]
    }
   ],
   "source": [
    "get_average_distance(4)"
   ]
  },
  {
   "cell_type": "code",
   "execution_count": 61,
   "metadata": {},
   "outputs": [
    {
     "name": "stdout",
     "output_type": "stream",
     "text": [
      "\n",
      "\n",
      "The average Euclidean distance of 'I_new' from 'I' is : 4.227\n",
      "time: 575 µs (started: 2021-07-21 00:39:22 +05:30)\n"
     ]
    }
   ],
   "source": [
    "get_average_distance(6)"
   ]
  },
  {
   "cell_type": "code",
   "execution_count": 62,
   "metadata": {},
   "outputs": [
    {
     "name": "stdout",
     "output_type": "stream",
     "text": [
      "\n",
      "\n",
      "The average Euclidean distance of 'I_new' from 'I' is : 5.645\n",
      "time: 903 µs (started: 2021-07-21 00:39:22 +05:30)\n"
     ]
    }
   ],
   "source": [
    "get_average_distance(8)"
   ]
  },
  {
   "cell_type": "code",
   "execution_count": 63,
   "metadata": {
    "scrolled": true
   },
   "outputs": [
    {
     "name": "stdout",
     "output_type": "stream",
     "text": [
      "\n",
      "\n",
      "The average Euclidean distance of 'I_new' from 'I' is : 22.625\n",
      "time: 14.3 ms (started: 2021-07-21 00:39:23 +05:30)\n"
     ]
    }
   ],
   "source": [
    "get_average_distance(32)"
   ]
  },
  {
   "cell_type": "code",
   "execution_count": 64,
   "metadata": {},
   "outputs": [
    {
     "name": "stdout",
     "output_type": "stream",
     "text": [
      "time: 147 µs (started: 2021-07-21 00:39:23 +05:30)\n"
     ]
    }
   ],
   "source": [
    "# another short function "
   ]
  },
  {
   "cell_type": "code",
   "execution_count": 65,
   "metadata": {},
   "outputs": [
    {
     "name": "stdout",
     "output_type": "stream",
     "text": [
      "time: 836 µs (started: 2021-07-21 00:39:23 +05:30)\n"
     ]
    }
   ],
   "source": [
    "import numpy as np\n",
    "import math\n",
    "\n",
    "# we are using here images with same height and width. So, here image_dimension = n if image is of nxn dims.\n",
    "# Total_vectors is a list of no of vectors having same Euclidean distances from 'I' vector.\n",
    "# Total_distances is another list containing the total distance for group of vectors having same distance (accordance with the list 'Distances')\n",
    "#      so, the length of these two lists are same.\n",
    "def get_average_distance(image_dimension):\n",
    "    no_of_pixels=int(image_dimension*image_dimension)\n",
    "    m=np.int((no_of_pixels/2) + 1)\n",
    "    Total_distances=[]\n",
    "    Total_vectors=[]\n",
    "    for i in range(m):\n",
    "        Total_distances.append(round(((math.comb(np.int(no_of_pixels/2),i))**2) * (np.sqrt(2*i)) ,3))\n",
    "        Total_vectors.append(((math.comb(np.int(no_of_pixels/2),i))**2))\n",
    "    return round(sum(Total_distances)/sum(Total_vectors),3)\n",
    "\n",
    "# here we can calculate for an image of maximum dimension 32x32 , above that we have to go for approximation for values otherwise"
   ]
  },
  {
   "cell_type": "code",
   "execution_count": 66,
   "metadata": {},
   "outputs": [
    {
     "data": {
      "text/plain": [
       "22.625"
      ]
     },
     "execution_count": 66,
     "metadata": {},
     "output_type": "execute_result"
    },
    {
     "name": "stdout",
     "output_type": "stream",
     "text": [
      "time: 30.8 ms (started: 2021-07-21 00:39:23 +05:30)\n"
     ]
    }
   ],
   "source": [
    "get_average_distance(32)"
   ]
  },
  {
   "cell_type": "code",
   "execution_count": 67,
   "metadata": {
    "scrolled": false
   },
   "outputs": [
    {
     "name": "stderr",
     "output_type": "stream",
     "text": [
      "<ipython-input-65-c30385329cee>:14: RuntimeWarning: overflow encountered in multiply\n",
      "  Total_distances.append(round(((math.comb(np.int(no_of_pixels/2),i))**2) * (np.sqrt(2*i)) ,3))\n"
     ]
    },
    {
     "ename": "OverflowError",
     "evalue": "int too large to convert to float",
     "output_type": "error",
     "traceback": [
      "\u001b[0;31m---------------------------------------------------------------------------\u001b[0m",
      "\u001b[0;31mOverflowError\u001b[0m                             Traceback (most recent call last)",
      "\u001b[0;32m<ipython-input-67-f95f1d205a85>\u001b[0m in \u001b[0;36m<module>\u001b[0;34m\u001b[0m\n\u001b[0;32m----> 1\u001b[0;31m \u001b[0mget_average_distance\u001b[0m\u001b[0;34m(\u001b[0m\u001b[0;36m34\u001b[0m\u001b[0;34m)\u001b[0m\u001b[0;34m\u001b[0m\u001b[0;34m\u001b[0m\u001b[0m\n\u001b[0m",
      "\u001b[0;32m<ipython-input-65-c30385329cee>\u001b[0m in \u001b[0;36mget_average_distance\u001b[0;34m(image_dimension)\u001b[0m\n\u001b[1;32m     12\u001b[0m     \u001b[0mTotal_vectors\u001b[0m\u001b[0;34m=\u001b[0m\u001b[0;34m[\u001b[0m\u001b[0;34m]\u001b[0m\u001b[0;34m\u001b[0m\u001b[0;34m\u001b[0m\u001b[0m\n\u001b[1;32m     13\u001b[0m     \u001b[0;32mfor\u001b[0m \u001b[0mi\u001b[0m \u001b[0;32min\u001b[0m \u001b[0mrange\u001b[0m\u001b[0;34m(\u001b[0m\u001b[0mm\u001b[0m\u001b[0;34m)\u001b[0m\u001b[0;34m:\u001b[0m\u001b[0;34m\u001b[0m\u001b[0;34m\u001b[0m\u001b[0m\n\u001b[0;32m---> 14\u001b[0;31m         \u001b[0mTotal_distances\u001b[0m\u001b[0;34m.\u001b[0m\u001b[0mappend\u001b[0m\u001b[0;34m(\u001b[0m\u001b[0mround\u001b[0m\u001b[0;34m(\u001b[0m\u001b[0;34m(\u001b[0m\u001b[0;34m(\u001b[0m\u001b[0mmath\u001b[0m\u001b[0;34m.\u001b[0m\u001b[0mcomb\u001b[0m\u001b[0;34m(\u001b[0m\u001b[0mnp\u001b[0m\u001b[0;34m.\u001b[0m\u001b[0mint\u001b[0m\u001b[0;34m(\u001b[0m\u001b[0mno_of_pixels\u001b[0m\u001b[0;34m/\u001b[0m\u001b[0;36m2\u001b[0m\u001b[0;34m)\u001b[0m\u001b[0;34m,\u001b[0m\u001b[0mi\u001b[0m\u001b[0;34m)\u001b[0m\u001b[0;34m)\u001b[0m\u001b[0;34m**\u001b[0m\u001b[0;36m2\u001b[0m\u001b[0;34m)\u001b[0m \u001b[0;34m*\u001b[0m \u001b[0;34m(\u001b[0m\u001b[0mnp\u001b[0m\u001b[0;34m.\u001b[0m\u001b[0msqrt\u001b[0m\u001b[0;34m(\u001b[0m\u001b[0;36m2\u001b[0m\u001b[0;34m*\u001b[0m\u001b[0mi\u001b[0m\u001b[0;34m)\u001b[0m\u001b[0;34m)\u001b[0m \u001b[0;34m,\u001b[0m\u001b[0;36m3\u001b[0m\u001b[0;34m)\u001b[0m\u001b[0;34m)\u001b[0m\u001b[0;34m\u001b[0m\u001b[0;34m\u001b[0m\u001b[0m\n\u001b[0m\u001b[1;32m     15\u001b[0m         \u001b[0mTotal_vectors\u001b[0m\u001b[0;34m.\u001b[0m\u001b[0mappend\u001b[0m\u001b[0;34m(\u001b[0m\u001b[0;34m(\u001b[0m\u001b[0;34m(\u001b[0m\u001b[0mmath\u001b[0m\u001b[0;34m.\u001b[0m\u001b[0mcomb\u001b[0m\u001b[0;34m(\u001b[0m\u001b[0mnp\u001b[0m\u001b[0;34m.\u001b[0m\u001b[0mint\u001b[0m\u001b[0;34m(\u001b[0m\u001b[0mno_of_pixels\u001b[0m\u001b[0;34m/\u001b[0m\u001b[0;36m2\u001b[0m\u001b[0;34m)\u001b[0m\u001b[0;34m,\u001b[0m\u001b[0mi\u001b[0m\u001b[0;34m)\u001b[0m\u001b[0;34m)\u001b[0m\u001b[0;34m**\u001b[0m\u001b[0;36m2\u001b[0m\u001b[0;34m)\u001b[0m\u001b[0;34m)\u001b[0m\u001b[0;34m\u001b[0m\u001b[0;34m\u001b[0m\u001b[0m\n\u001b[1;32m     16\u001b[0m     \u001b[0;32mreturn\u001b[0m \u001b[0mround\u001b[0m\u001b[0;34m(\u001b[0m\u001b[0msum\u001b[0m\u001b[0;34m(\u001b[0m\u001b[0mTotal_distances\u001b[0m\u001b[0;34m)\u001b[0m\u001b[0;34m/\u001b[0m\u001b[0msum\u001b[0m\u001b[0;34m(\u001b[0m\u001b[0mTotal_vectors\u001b[0m\u001b[0;34m)\u001b[0m\u001b[0;34m,\u001b[0m\u001b[0;36m3\u001b[0m\u001b[0;34m)\u001b[0m\u001b[0;34m\u001b[0m\u001b[0;34m\u001b[0m\u001b[0m\n",
      "\u001b[0;31mOverflowError\u001b[0m: int too large to convert to float"
     ]
    },
    {
     "name": "stdout",
     "output_type": "stream",
     "text": [
      "time: 18.8 ms (started: 2021-07-21 00:39:24 +05:30)\n"
     ]
    }
   ],
   "source": [
    "get_average_distance(34)"
   ]
  },
  {
   "cell_type": "code",
   "execution_count": null,
   "metadata": {},
   "outputs": [],
   "source": []
  },
  {
   "cell_type": "code",
   "execution_count": null,
   "metadata": {},
   "outputs": [],
   "source": []
  },
  {
   "cell_type": "code",
   "execution_count": null,
   "metadata": {},
   "outputs": [],
   "source": []
  },
  {
   "cell_type": "code",
   "execution_count": null,
   "metadata": {},
   "outputs": [],
   "source": []
  },
  {
   "cell_type": "code",
   "execution_count": null,
   "metadata": {},
   "outputs": [],
   "source": []
  },
  {
   "cell_type": "code",
   "execution_count": null,
   "metadata": {},
   "outputs": [],
   "source": []
  },
  {
   "cell_type": "code",
   "execution_count": null,
   "metadata": {},
   "outputs": [],
   "source": []
  },
  {
   "cell_type": "code",
   "execution_count": null,
   "metadata": {},
   "outputs": [],
   "source": []
  },
  {
   "cell_type": "code",
   "execution_count": null,
   "metadata": {},
   "outputs": [],
   "source": []
  },
  {
   "cell_type": "code",
   "execution_count": null,
   "metadata": {},
   "outputs": [],
   "source": []
  },
  {
   "cell_type": "code",
   "execution_count": null,
   "metadata": {},
   "outputs": [],
   "source": []
  },
  {
   "cell_type": "code",
   "execution_count": null,
   "metadata": {},
   "outputs": [],
   "source": []
  },
  {
   "cell_type": "markdown",
   "metadata": {},
   "source": [
    "# Another problem not related to the above question"
   ]
  },
  {
   "cell_type": "markdown",
   "metadata": {},
   "source": [
    "A number spiral is an infinite grid whose upper-left square has number 1. Here are the first five layers of the spiral:\n",
    "<img src=\"image.png\">\n",
    "Your task is to find out the number in row y and column x.\n",
    "---------\n"
   ]
  },
  {
   "cell_type": "code",
   "execution_count": 68,
   "metadata": {},
   "outputs": [
    {
     "data": {
      "text/plain": [
       "18"
      ]
     },
     "execution_count": 68,
     "metadata": {},
     "output_type": "execute_result"
    },
    {
     "name": "stdout",
     "output_type": "stream",
     "text": [
      "time: 2.92 ms (started: 2021-07-21 00:39:25 +05:30)\n"
     ]
    }
   ],
   "source": [
    "x=5\n",
    "y=2\n",
    "    \n",
    "if x%2==0:\n",
    "    if y<x:\n",
    "        value=(x**2)-(y-1)\n",
    "    else:\n",
    "        if y%2==0:\n",
    "            value= ((y-1)**2)+x\n",
    "        else:\n",
    "            value= (y**2)-(x-1)\n",
    "else:\n",
    "    if y<x:\n",
    "        value=((x-1)**2)+y\n",
    "    else:\n",
    "        if y%2==0:\n",
    "            value= ((y-1)**2)+x\n",
    "        else:\n",
    "            value= (y**2)-(x-1)\n",
    "value"
   ]
  },
  {
   "cell_type": "code",
   "execution_count": 39,
   "metadata": {},
   "outputs": [],
   "source": [
    "# ANother approach\n",
    "x=5\n",
    "y=2\n",
    "# for i in range(x):\n",
    "#     for j in range(y):\n",
    "       \n",
    "def get_value(x,y):    \n",
    "    if x<y:\n",
    "        if y%2==0:\n",
    "            value= ((y-1)**2)+x\n",
    "        else:\n",
    "            value= (y**2)-(x-1)\n",
    "    else:\n",
    "        if x%2==0:\n",
    "            value=(x**2)-(y-1)\n",
    "        else:\n",
    "            value=((x-1)**2)+y\n",
    "    return value"
   ]
  },
  {
   "cell_type": "code",
   "execution_count": 42,
   "metadata": {},
   "outputs": [
    {
     "data": {
      "text/plain": [
       "23"
      ]
     },
     "execution_count": 42,
     "metadata": {},
     "output_type": "execute_result"
    },
    {
     "name": "stdout",
     "output_type": "stream",
     "text": [
      "time: 1.9 ms (started: 2021-07-21 00:37:41 +05:30)\n"
     ]
    }
   ],
   "source": [
    "\n",
    "get_value(3,5)"
   ]
  },
  {
   "cell_type": "markdown",
   "metadata": {},
   "source": [
    "# Date 23/10/2021"
   ]
  },
  {
   "attachments": {
    "image-2.png": {
     "image/png": "[encoded data removed]"
    },
    "image.png": {
     "image/png": "[encoded data removed]"
    }
   },
   "cell_type": "markdown",
   "metadata": {},
   "source": [
    "# Question\n",
    "\n",
    "\n",
    "![image-2.png](attachment:image-2.png)\n",
    "\n",
    "![image.png](attachment:image.png)\n"
   ]
  },
  {
   "cell_type": "code",
   "execution_count": 4,
   "metadata": {},
   "outputs": [],
   "source": [
    "import numpy as np"
   ]
  },
  {
   "cell_type": "code",
   "execution_count": 5,
   "metadata": {},
   "outputs": [],
   "source": [
    "def activation(row_mat):\n",
    "    activation_value=[]\n",
    "    for i in row_mat.tolist()[0]:\n",
    "        activation_value.append(np.tanh(i))\n",
    "    return activation_value"
   ]
  },
  {
   "cell_type": "code",
   "execution_count": 6,
   "metadata": {},
   "outputs": [],
   "source": [
    "def softmax(vector):  ## if the input is vector\n",
    "    softmax=[]\n",
    "    s=np.sum([np.exp(i) for i in vector])  \n",
    "#     print([np.exp(i) for i in vector.tolist()[0]],s)\n",
    "    for i in vector:\n",
    "        softmax.append(np.round(np.exp(i)/s,8))\n",
    "    return softmax\n",
    "\n",
    "def softmax1(row_mat):  ## if the input is matrix , i.e, without activation function\n",
    "    softmax=[]\n",
    "    s=np.sum([np.exp(i) for i in row_mat.tolist()[0]])  \n",
    "#     print([np.exp(i) for i in row_mat.tolist()[0]],s)\n",
    "    for i in row_mat.tolist()[0]:\n",
    "        softmax.append(np.round(np.exp(i)/s,8))\n",
    "    return softmax"
   ]
  },
  {
   "cell_type": "code",
   "execution_count": 7,
   "metadata": {},
   "outputs": [],
   "source": [
    "def get_probability(row_mat):  ## by this definition probability may cvome negative, so you should not use this\n",
    "    probability=[]\n",
    "    s=np.sum(row_mat.tolist()[0])\n",
    "    for i in row_mat.tolist()[0]:\n",
    "        probability.append(np.round(i/s,3))\n",
    "    return probability\n",
    "        "
   ]
  },
  {
   "cell_type": "code",
   "execution_count": 8,
   "metadata": {},
   "outputs": [
    {
     "data": {
      "text/plain": [
       "array([[4.5070000e-05, 7.4310000e-05, 1.2251000e-04, 3.3303000e-04,\n",
       "        6.6890000e-03, 9.9273608e-01]])"
      ]
     },
     "execution_count": 8,
     "metadata": {},
     "output_type": "execute_result"
    }
   ],
   "source": [
    "sum(softmax(np.matrix([0,0.5,1,2,5,10])))"
   ]
  },
  {
   "cell_type": "code",
   "execution_count": 9,
   "metadata": {},
   "outputs": [],
   "source": [
    "x1=[2,5,10]\n",
    "x2=[1,3,7]\n",
    "x3=[-3,3,2]\n",
    "\n",
    "u1=np.matrix([[-1.3,0.5,0.2,0.1], [1.4,-0.7,1.3,-1.1],[1.7,0.1,-0.3,0.4]])\n",
    "u2=np.matrix([[0.1,1.5,0.2], [2.4,1.7,1.3],[-1.7,0.1,0.3],[0.7,2.1,-1.3]])\n",
    "\n",
    "v1=np.matrix([[-0.1,1.5,0.2,-2.1], [0.4,-1.7,-1.3,1.2],[-1.8,1.1,1.3,0.3],[-0.8,1.5,1.1,-2.3]])\n",
    "v2=np.matrix([[-0.1,1.5,0.7], [-1.4,-1.8,-0.3],[-1.8,1.2,0.3]])\n",
    "\n",
    "w=np.matrix([[-1.1,1.7,0.1,0.2,0.1],[-1.2,-0.8,-1.3,1.1,1.2],[-1.7,-1.2,1.3,0.2,1.5]])"
   ]
  },
  {
   "cell_type": "code",
   "execution_count": 10,
   "metadata": {},
   "outputs": [],
   "source": [
    "g1=activation(np.dot(x1,u1))\n",
    "g2=activation(np.dot(g1,v1) + np.dot(x2,u1))\n",
    "g3=activation(np.dot(g2,v1) + np.dot(x3,u1))\n",
    "\n",
    "r1=activation(np.dot(g1,u2))\n",
    "r2=activation(np.dot(g2,u2)+np.dot(r1,v2))\n",
    "r3=activation(np.dot(g3,u2)+np.dot(r2,v2))\n",
    "\n",
    "y=activation(np.dot(r3,w))  ## this is a vector\n",
    "\n",
    "Y=np.dot(r3,w)  ## this is a matrix"
   ]
  },
  {
   "cell_type": "code",
   "execution_count": 11,
   "metadata": {},
   "outputs": [
    {
     "data": {
      "text/plain": [
       "[0.33840098, 0.06006832, 0.40392311, 0.06995067, 0.12765692]"
      ]
     },
     "execution_count": 11,
     "metadata": {},
     "output_type": "execute_result"
    }
   ],
   "source": [
    "softmax=softmax(y)\n",
    "softmax"
   ]
  },
  {
   "cell_type": "code",
   "execution_count": 12,
   "metadata": {},
   "outputs": [
    {
     "data": {
      "text/plain": [
       "[0.25302311, 0.0149196, 0.62961656, 0.02996174, 0.07247899]"
      ]
     },
     "execution_count": 12,
     "metadata": {},
     "output_type": "execute_result"
    }
   ],
   "source": [
    "## this is the correct one, if in the last layer there is no activation funtion\n",
    "\n",
    "softmax=softmax1(Y)  # for the matrix   \n",
    "softmax"
   ]
  },
  {
   "cell_type": "code",
   "execution_count": null,
   "metadata": {},
   "outputs": [],
   "source": [
    "## though the answer is not mathching this is the way to solve these types of questions"
   ]
  },
  {
   "cell_type": "code",
   "execution_count": null,
   "metadata": {},
   "outputs": [],
   "source": []
  },
  {
   "cell_type": "code",
   "execution_count": null,
   "metadata": {},
   "outputs": [],
   "source": []
  },
  {
   "cell_type": "code",
   "execution_count": 4,
   "metadata": {},
   "outputs": [
    {
     "name": "stdout",
     "output_type": "stream",
     "text": [
      "2.6.0\n"
     ]
    }
   ],
   "source": [
    "import tensorflow as tf\n",
    "print(tf.__version__)"
   ]
  },
  {
   "cell_type": "code",
   "execution_count": 2,
   "metadata": {},
   "outputs": [
    {
     "name": "stdout",
     "output_type": "stream",
     "text": [
      "Requirement already satisfied: art in /home/sysadm/anaconda3/lib/python3.8/site-packages (5.3)\n",
      "\u001b[33mWARNING: You are using pip version 21.2.4; however, version 21.3.1 is available.\n",
      "You should consider upgrading via the '/home/sysadm/anaconda3/bin/python -m pip install --upgrade pip' command.\u001b[0m\n",
      " ____                                                                        _            _      _                    _ \n",
      "/ ___|   ___   ___   _   _   ___   _   _    ___   _ __    _ __    ___ __  __| |_  __   __(_)  __| |  ___   ___   ___ | |\n",
      "\\___ \\  / _ \\ / _ \\ | | | | / _ \\ | | | |  / _ \\ | '_ \\  | '_ \\  / _ \\\\ \\/ /| __| \\ \\ / /| | / _` | / _ \\ / _ \\ / __|| |\n",
      " ___) ||  __/|  __/ | |_| || (_) || |_| | | (_) || | | | | | | ||  __/ >  < | |_   \\ V / | || (_| ||  __/| (_) |\\__ \\|_|\n",
      "|____/  \\___| \\___|  \\__, | \\___/  \\__,_|  \\___/ |_| |_| |_| |_| \\___|/_/\\_\\ \\__|   \\_/  |_| \\__,_| \\___| \\___/ |___/(_)\n",
      "                     |___/                                                                                              \n",
      "\n",
      "༼ つ ◕_◕ ༽つ ༼ つ ◕_◕ ༽つ ༼ つ ◕_◕ ༽つ ༼ つ ◕_◕ ༽つ ༼ つ ◕_◕ ༽つ \n",
      "\n",
      "\tLike and subscribe to support this work!\n",
      "\n",
      "༼ つ ◕_◕ ༽つ ༼ つ ◕_◕ ༽つ ༼ つ ◕_◕ ༽つ ༼ つ ◕_◕ ༽つ ༼ つ ◕_◕ ༽つ \n"
     ]
    }
   ],
   "source": [
    "\n",
    "#!pip install art\n",
    "from art import tprint, aprint\n",
    "tprint('See you on next videos!')\n",
    "def subscribe():\n",
    "  \"\"\"\n",
    "  Attractive subscription form\n",
    "  \"\"\"\n",
    "  aprint(\"giveme\", number=5)\n",
    "  print(f'\\n\\tLike and subscribe to support this work!\\n')\n",
    "  aprint(\"giveme\", number=5)\n",
    "subscribe()"
   ]
  },
  {
   "cell_type": "code",
   "execution_count": null,
   "metadata": {},
   "outputs": [],
   "source": []
  },
  {
   "cell_type": "code",
   "execution_count": null,
   "metadata": {},
   "outputs": [],
   "source": []
  },
  {
   "cell_type": "code",
   "execution_count": null,
   "metadata": {},
   "outputs": [],
   "source": []
  },
  {
   "cell_type": "markdown",
   "metadata": {},
   "source": [
    "# Use of strip( ) , rstrip( ) with reading and writting file.\n",
    "\n",
    "use of dictionary.setdefault() function"
   ]
  },
  {
   "cell_type": "code",
   "execution_count": null,
   "metadata": {},
   "outputs": [],
   "source": []
  },
  {
   "cell_type": "markdown",
   "metadata": {},
   "source": [
    "AAA x 111\\\n",
    "AAB x 111\\\n",
    "AAA x 112\\\n",
    "AAC x 123\\\n",
    "you have to print this like-\\\n",
    "{'AAA': ['111', '112'], 'AAB': ['111'], 'AAC': ['123']}"
   ]
  },
  {
   "cell_type": "code",
   "execution_count": 64,
   "metadata": {},
   "outputs": [
    {
     "name": "stdout",
     "output_type": "stream",
     "text": [
      "d: {'AAA': ['111'], 'AAB': ['111']}\n"
     ]
    }
   ],
   "source": [
    "d = {}\n",
    "with open(\"./filename.txt\", \"r\") as file:\n",
    "    line = file.readline().rstrip()\n",
    "    while line:\n",
    "        lst = line.split() # Split into sequence like ['AAA', 'x', '111'].\n",
    "        k, _, v = lst[:3]  # Get first and third items.\n",
    "        d.setdefault(k, []).append(v)\n",
    "        line = file.readline().rstrip()\n",
    "\n",
    "print('d: {}'.format(d))"
   ]
  },
  {
   "cell_type": "code",
   "execution_count": 65,
   "metadata": {
    "scrolled": true
   },
   "outputs": [
    {
     "name": "stdout",
     "output_type": "stream",
     "text": [
      "start AAA x 111 end\n",
      "start2 AAB x 111 end2\n",
      "start2  end2\n",
      "d: {'AAA': ['111'], 'AAB': ['111']}\n"
     ]
    }
   ],
   "source": [
    "d = {}\n",
    "with open (\"./filename.txt\",\"r\") as file:\n",
    "    line= file.readline().rstrip()\n",
    "    print(\"start\",line,\"end\")\n",
    "    while line:\n",
    "        lst = line.split() # Split into sequence like ['AAA', 'x', '111'].\n",
    "        k, _, v = lst[:3]  # Get first and third items.\n",
    "        d.setdefault(k, []).append(v)\n",
    "        line= file.readline().rstrip()\n",
    "        print(\"start2\",line,\"end2\")   \n",
    "\n",
    "print('d: {}'.format(d))"
   ]
  },
  {
   "cell_type": "code",
   "execution_count": 66,
   "metadata": {},
   "outputs": [
    {
     "name": "stdout",
     "output_type": "stream",
     "text": [
      "<generator object <genexpr> at 0x7f480c2bff90>\n"
     ]
    },
    {
     "ename": "ValueError",
     "evalue": "not enough values to unpack (expected 3, got 0)",
     "output_type": "error",
     "traceback": [
      "\u001b[0;31m---------------------------------------------------------------------------\u001b[0m",
      "\u001b[0;31mValueError\u001b[0m                                Traceback (most recent call last)",
      "\u001b[0;32m<ipython-input-66-ed9c533223d6>\u001b[0m in \u001b[0;36m<module>\u001b[0;34m\u001b[0m\n\u001b[1;32m      3\u001b[0m     \u001b[0mprint\u001b[0m\u001b[0;34m(\u001b[0m\u001b[0mk\u001b[0m\u001b[0;34m)\u001b[0m\u001b[0;34m\u001b[0m\u001b[0;34m\u001b[0m\u001b[0m\n\u001b[1;32m      4\u001b[0m     \u001b[0md\u001b[0m\u001b[0;34m=\u001b[0m\u001b[0;34m{\u001b[0m\u001b[0;34m}\u001b[0m\u001b[0;34m\u001b[0m\u001b[0;34m\u001b[0m\u001b[0m\n\u001b[0;32m----> 5\u001b[0;31m     \u001b[0;32mfor\u001b[0m \u001b[0mi\u001b[0m\u001b[0;34m,\u001b[0m\u001b[0m_\u001b[0m\u001b[0;34m,\u001b[0m\u001b[0mv\u001b[0m \u001b[0;32min\u001b[0m \u001b[0mk\u001b[0m\u001b[0;34m:\u001b[0m\u001b[0;34m\u001b[0m\u001b[0;34m\u001b[0m\u001b[0m\n\u001b[0m\u001b[1;32m      6\u001b[0m         \u001b[0md\u001b[0m\u001b[0;34m.\u001b[0m\u001b[0msetdefault\u001b[0m\u001b[0;34m(\u001b[0m\u001b[0mi\u001b[0m\u001b[0;34m,\u001b[0m\u001b[0;34m[\u001b[0m\u001b[0;34m]\u001b[0m\u001b[0;34m)\u001b[0m\u001b[0;34m.\u001b[0m\u001b[0mappend\u001b[0m\u001b[0;34m(\u001b[0m\u001b[0mv\u001b[0m\u001b[0;34m)\u001b[0m\u001b[0;34m\u001b[0m\u001b[0;34m\u001b[0m\u001b[0m\n\u001b[1;32m      7\u001b[0m \u001b[0md\u001b[0m\u001b[0;34m\u001b[0m\u001b[0;34m\u001b[0m\u001b[0m\n",
      "\u001b[0;31mValueError\u001b[0m: not enough values to unpack (expected 3, got 0)"
     ]
    }
   ],
   "source": [
    "with open(\"filename.txt\") as f:\n",
    "    k=(i.split(\"\\n\")[0].rstrip().split() for i in f.readlines())\n",
    "    print(k)\n",
    "    d={}\n",
    "    for i,_,v in k:\n",
    "        d.setdefault(i,[]).append(v)\n",
    "d"
   ]
  },
  {
   "cell_type": "code",
   "execution_count": 67,
   "metadata": {},
   "outputs": [
    {
     "name": "stdout",
     "output_type": "stream",
     "text": [
      "AAA x 111  \n",
      " 12\n",
      "AAA x 111 9\n",
      "AAB x 111\n",
      " 10\n",
      "AAB x 111 9\n",
      "\n",
      " 1\n",
      " 0\n",
      "\n",
      " 1\n",
      " 0\n",
      "AAA x 112\n",
      " 10\n",
      "AAA x 112 9\n",
      " AAC x 123\n",
      " 11\n",
      "AAC x 123 9\n"
     ]
    }
   ],
   "source": [
    "with open(\"filename.txt\") as f:\n",
    "    for i in f.readlines():\n",
    "        print(i,len(i))\n",
    "        mahi=i.split(\"\\n\")[0].strip()\n",
    "        print(mahi,len(mahi))"
   ]
  },
  {
   "cell_type": "code",
   "execution_count": 68,
   "metadata": {},
   "outputs": [
    {
     "name": "stdout",
     "output_type": "stream",
     "text": [
      "           AAA x 111  \n",
      "AAB x 111\n",
      "\n",
      "\n",
      "AAA x 112\n",
      " AAC x 123\n",
      "\n"
     ]
    }
   ],
   "source": [
    "with open(\"filename.txt\", \"r\") as file:\n",
    "    newline_break = \"           \"\n",
    "    for readline in file: \n",
    "        line_strip = readline#.strip()\n",
    "        newline_break += line_strip\n",
    "    print(newline_break)"
   ]
  },
  {
   "cell_type": "code",
   "execution_count": 69,
   "metadata": {},
   "outputs": [
    {
     "name": "stdout",
     "output_type": "stream",
     "text": [
      "           AAA x 111AAB x 111AAA x 112AAC x 123\n"
     ]
    }
   ],
   "source": [
    "with open(\"filename.txt\", \"r\") as file:\n",
    "    newline_break = \"           \"\n",
    "    for readline in file: \n",
    "        line_strip = readline.strip()\n",
    "        newline_break += line_strip\n",
    "    print(newline_break)"
   ]
  },
  {
   "cell_type": "code",
   "execution_count": 135,
   "metadata": {},
   "outputs": [
    {
     "name": "stdout",
     "output_type": "stream",
     "text": [
      "ghuk  re6tyue\n"
     ]
    }
   ],
   "source": [
    "with open(\"filename.txt\", \"r\") as file:\n",
    "    newline_break = \"\"\n",
    "    for readline in file:\n",
    "        line_strip = line.replace('\\n', \" \")\n",
    "        newline_break += line_strip\n",
    "print(\"ghuk\",newline_break,\"re6tyue\")\n"
   ]
  },
  {
   "cell_type": "code",
   "execution_count": null,
   "metadata": {},
   "outputs": [],
   "source": []
  },
  {
   "cell_type": "code",
   "execution_count": null,
   "metadata": {},
   "outputs": [],
   "source": []
  },
  {
   "cell_type": "code",
   "execution_count": null,
   "metadata": {},
   "outputs": [],
   "source": []
  },
  {
   "cell_type": "markdown",
   "metadata": {},
   "source": [
    "# Dictionary"
   ]
  },
  {
   "cell_type": "markdown",
   "metadata": {},
   "source": [
    "# Dictionary Methods\n",
    "## Python has a set of built-in methods that you can use on dictionaries.\n",
    "    D.clear() -> None.  Remove all items from D.\n",
    "    D.copy() -> a shallow copy of D\n",
    "    D.keys() -> a set-like object providing a view on D's keys\n",
    "    D.values() -> an object providing a view on D's values\n",
    "    D.items() -> a set-like object providing a view on D's items\n",
    "    D.get(key, default=None)     Return the value for key if key is in the dictionary, else default.\n",
    "    \n",
    "    D.fromkeys(iterable, value=None)   Create a new dictionary with keys from iterable and values set to \"value\"\n",
    "\n",
    "        \"\"\" \n",
    "        ## example of car.fromkeys(iterable, value=None)\n",
    "        x = ('key1', 'key2', 'key3')\n",
    "        y = [1,2,3,4]\n",
    "        thisdict = dict.fromkeys(x, y)\n",
    "        print(thisdict)  ## > {'key1': [1, 2, 3, 4], 'key2': [1, 2, 3, 4], 'key3': [1, 2, 3, 4]}\n",
    "        \"\"\"\n",
    "\n",
    "    D.pop(k,default) -> v, remove specified key and return the corresponding value.\n",
    "            If key is not found, d is returned if given, otherwise KeyError is raised\n",
    "    \n",
    "        \"\"\"\n",
    "        ## Example of D.pop()\n",
    "        sales = { 'apple': 2, 'orange': 3, 'grapes': 4 }\n",
    "        element = sales.pop('guava', 'banana')\n",
    "        print('The popped element is:', element)\n",
    "        print('The dictionary is:', sales)\n",
    "        Output:\n",
    "        The popped element is: banana\n",
    "        The dictionary is: {'orange': 3, 'apple': 2, 'grapes': 4}\n",
    "        \"\"\"\n",
    "    D.popitem() -> Remove and return a (key, value) pair as a 2-tuple.\n",
    "\n",
    "        Pairs are returned in LIFO (last-in, first-out) order.\n",
    "        Raises KeyError if the dict is empty.\n",
    "\n",
    "    D.setdefault(key, default=None) -> Insert key with a value of default if key is not in the dictionary.\n",
    "            Return the value for key if key is in the dictionary, else default.\n",
    "    \n",
    "    D.update() -> updates the dictionary with elements from a dictionary object or an iterable object of key/value \n",
    "            pairs. Updates the value of existing key and also update element with new key. It doesn't return any \n",
    "            value (returns None)\n",
    "    \n",
    "    \n",
    "        \"\"\"\n",
    "        d = {1: \"one\", 2: \"three\"}\n",
    "        d1 = {2: \"two\"}\n",
    "        # updates the value of key 2\n",
    "        d.update(d1)\n",
    "        print(d)  ##> {1: 'one', 2: 'two'}\n",
    "        d1 = {3: \"three\"}\n",
    "        # adds element with key 3\n",
    "        d.update(d1)\n",
    "        print(d)  ## > {1: 'one', 2: 'two', 3: 'three'}\n",
    "        \n",
    "        d = {'x': 2}\n",
    "        d.update(y = 3, z = 0)\n",
    "        print(d) ## > {'x': 2, 'y': 3, 'z': 0}\n",
    "        \"\"\"\n",
    "    \n",
    "    "
   ]
  },
  {
   "cell_type": "markdown",
   "metadata": {},
   "source": [
    "# Dictionary Methods\n",
    "## Python has a set of built-in methods that you can use on dictionaries.\n",
    "\n",
    "    Method\tDescription\n",
    "    clear()\tRemoves all the elements from the dictionary\n",
    "    copy()\tReturns a copy of the dictionary\n",
    "    fromkeys()\tReturns a dictionary with the specified keys and value\n",
    "    get()\tReturns the value of the specified key\n",
    "    items()\tReturns a list containing a tuple for each key value pair\n",
    "    keys()\tReturns a list containing the dictionary's keys\n",
    "    pop()\tRemoves the element with the specified key\n",
    "    popitem()\tRemoves the last inserted key-value pair\n",
    "    setdefault()\tReturns the value of the specified key. If the key does not exist: insert the key, with the specified value\n",
    "    update()\tUpdates the dictionary with the specified key-value pairs\n",
    "    values()\tReturns a list of all the values in the dictionary"
   ]
  },
  {
   "cell_type": "code",
   "execution_count": null,
   "metadata": {},
   "outputs": [],
   "source": [
    "car.values"
   ]
  },
  {
   "cell_type": "code",
   "execution_count": 235,
   "metadata": {},
   "outputs": [
    {
     "name": "stdout",
     "output_type": "stream",
     "text": [
      "{1: 'one', 2: 'two'}\n",
      "{1: 'one', 2: 'two', 3: 'three'}\n"
     ]
    }
   ],
   "source": [
    "d = {1: \"one\", 2: \"three\"}\n",
    "d1 = {2: \"two\"}\n",
    "\n",
    "# updates the value of key 2\n",
    "d.update(d1)\n",
    "\n",
    "print(d)\n",
    "\n",
    "d1 = {3: \"three\"}\n",
    "\n",
    "# adds element with key 3\n",
    "d.update(d1)\n",
    "\n",
    "print(d)"
   ]
  },
  {
   "cell_type": "code",
   "execution_count": 234,
   "metadata": {},
   "outputs": [
    {
     "name": "stdout",
     "output_type": "stream",
     "text": [
      "{'x': 2, 'y': 3, 'z': 0}\n"
     ]
    }
   ],
   "source": [
    "d = {'x': 2}\n",
    "\n",
    "d.update(y = 3, z = 0)\n",
    "\n",
    "print(d)"
   ]
  },
  {
   "cell_type": "code",
   "execution_count": 223,
   "metadata": {},
   "outputs": [
    {
     "name": "stdout",
     "output_type": "stream",
     "text": [
      "Regular dictionary:\n",
      "a 97\n",
      "b 98\n",
      "c 99\n",
      "d 100\n",
      "e 101\n",
      "f 102\n",
      "\n",
      "OrderedDict:\n",
      "a 97\n",
      "b 98\n",
      "c 99\n",
      "d 100\n",
      "e 101\n",
      "f 102\n"
     ]
    }
   ],
   "source": [
    "import collections\n",
    "  \n",
    " \n",
    "# Creating a regular dictionary\n",
    "print('Regular dictionary:')\n",
    "d = {chr(k):k for k in range(ord('a'), ord('g'))}\n",
    "  \n",
    "for k, v in d.items():\n",
    "    print(k, v)\n",
    "  \n",
    "# Creating an Ordered dictionary\n",
    "print('\\nOrderedDict:')\n",
    "d = collections.OrderedDict()\n",
    "[d.setdefault(chr(k), k) for k in range(ord('a'), ord('g'))]\n",
    "  \n",
    "for k, v in d.items():\n",
    "    print(k, v)"
   ]
  },
  {
   "cell_type": "code",
   "execution_count": 224,
   "metadata": {},
   "outputs": [
    {
     "name": "stdout",
     "output_type": "stream",
     "text": [
      "Before deleting:\n",
      "\n",
      "Regular dictionary:\n",
      "a 1\n",
      "b 2\n",
      "c 3\n",
      "d 4\n",
      "\n",
      "Ordered dictionary:\n",
      "a 1\n",
      "b 2\n",
      "c 3\n",
      "d 4\n",
      "\n",
      "After deleting:\n",
      "\n",
      "Regular dictionary:\n",
      "a 1\n",
      "b 2\n",
      "d 4\n",
      "\n",
      "Ordered dictionary:\n",
      "a 1\n",
      "b 2\n",
      "d 4\n",
      "\n",
      "After re-inserting:\n",
      "\n",
      "Regular dictionary:\n",
      "a 1\n",
      "b 2\n",
      "d 4\n",
      "c 3\n",
      "\n",
      "Ordered dictionary:\n",
      "a 1\n",
      "b 2\n",
      "d 4\n",
      "c 3\n"
     ]
    }
   ],
   "source": [
    "# A Python program to demonstrate\n",
    "# working of deletion and re-insertion in\n",
    "# regular and OrderedDict\n",
    " \n",
    " \n",
    "from collections import OrderedDict\n",
    "   \n",
    "print(\"Before deleting:\\n\")\n",
    " \n",
    "d = {}\n",
    "print(\"Regular dictionary:\")\n",
    "d['a'] = 1\n",
    "d['b'] = 2\n",
    "d['c'] = 3\n",
    "d['d'] = 4\n",
    "for key, value in d.items():\n",
    "    print(key, value)\n",
    "     \n",
    "od = OrderedDict()\n",
    "print(\"\\nOrdered dictionary:\")\n",
    "od['a'] = 1\n",
    "od['b'] = 2\n",
    "od['c'] = 3\n",
    "od['d'] = 4\n",
    "for key, value in od.items():\n",
    "    print(key, value)\n",
    " \n",
    "   \n",
    "print(\"\\nAfter deleting:\\n\")\n",
    " \n",
    " \n",
    "print(\"Regular dictionary:\")\n",
    "d.pop('c')\n",
    "for key, value in d.items():\n",
    "    print(key, value)\n",
    "     \n",
    "print(\"\\nOrdered dictionary:\")\n",
    "od.pop('c')\n",
    "for key, value in od.items():\n",
    "    print(key, value)\n",
    "   \n",
    "   \n",
    "print(\"\\nAfter re-inserting:\\n\")\n",
    " \n",
    " \n",
    "print(\"Regular dictionary:\")\n",
    "d['c'] = 3\n",
    "for key, value in d.items():\n",
    "    print(key, value)\n",
    "     \n",
    "print(\"\\nOrdered dictionary:\")\n",
    "od['c'] = 3\n",
    "for key, value in od.items():\n",
    "    print(key, value)"
   ]
  },
  {
   "cell_type": "code",
   "execution_count": null,
   "metadata": {},
   "outputs": [],
   "source": []
  },
  {
   "cell_type": "code",
   "execution_count": 233,
   "metadata": {
    "scrolled": true
   },
   "outputs": [
    {
     "name": "stdout",
     "output_type": "stream",
     "text": [
      "{'brand': 'Ford', 'model': 'Mustang', 'year': 1964}\n",
      "Mustang\n"
     ]
    }
   ],
   "source": [
    "car = {\n",
    "  \"brand\": \"Ford\",\n",
    "  \"model\": \"Mustanggggggggggg\",\n",
    "  \"year\": 1964,\"model\": \"Mustang\",\"brand\": \"Ford\"\n",
    "}\n",
    "print(car)\n",
    "x = car.setdefault(\"model\", \"Bronco\")\n",
    "print(x)\n"
   ]
  },
  {
   "cell_type": "code",
   "execution_count": 231,
   "metadata": {},
   "outputs": [
    {
     "ename": "AttributeError",
     "evalue": "'str' object has no attribute 'append'",
     "output_type": "error",
     "traceback": [
      "\u001b[0;31m---------------------------------------------------------------------------\u001b[0m",
      "\u001b[0;31mAttributeError\u001b[0m                            Traceback (most recent call last)",
      "\u001b[0;32m<ipython-input-231-966836ef81a2>\u001b[0m in \u001b[0;36m<module>\u001b[0;34m\u001b[0m\n\u001b[0;32m----> 1\u001b[0;31m \u001b[0mx\u001b[0m \u001b[0;34m=\u001b[0m \u001b[0mcar\u001b[0m\u001b[0;34m.\u001b[0m\u001b[0msetdefault\u001b[0m\u001b[0;34m(\u001b[0m\u001b[0;34m\"model\"\u001b[0m\u001b[0;34m,\u001b[0m \u001b[0;34m[\u001b[0m\u001b[0;34m]\u001b[0m\u001b[0;34m)\u001b[0m\u001b[0;34m.\u001b[0m\u001b[0mappend\u001b[0m\u001b[0;34m(\u001b[0m\u001b[0;34m\"something\"\u001b[0m\u001b[0;34m)\u001b[0m \u001b[0;31m## it is not possible because the type of the value is already declared\u001b[0m\u001b[0;34m\u001b[0m\u001b[0;34m\u001b[0m\u001b[0m\n\u001b[0m\u001b[1;32m      2\u001b[0m \u001b[0mprint\u001b[0m\u001b[0;34m(\u001b[0m\u001b[0mx\u001b[0m\u001b[0;34m)\u001b[0m\u001b[0;34m\u001b[0m\u001b[0;34m\u001b[0m\u001b[0m\n",
      "\u001b[0;31mAttributeError\u001b[0m: 'str' object has no attribute 'append'"
     ]
    }
   ],
   "source": [
    "x = car.setdefault(\"model\", []).append(\"something\") ## it is not possible because the type of the value is already declared\n",
    "print(x)"
   ]
  },
  {
   "cell_type": "code",
   "execution_count": 230,
   "metadata": {},
   "outputs": [
    {
     "name": "stdout",
     "output_type": "stream",
     "text": [
      "The popped element is: bananakjbj\n",
      "The dictionary is: {'apple': 2, 'orange': 3, 'grapes': 4}\n"
     ]
    }
   ],
   "source": [
    "sales = { 'apple': 2, 'orange': 3, 'grapes': 4 }\n",
    "\n",
    "element = sales.pop('guava','banana'+ \"kjbj\")\n",
    "\n",
    "print('The popped element is:', element)\n",
    "print('The dictionary is:', sales)\n"
   ]
  },
  {
   "cell_type": "code",
   "execution_count": null,
   "metadata": {},
   "outputs": [],
   "source": []
  },
  {
   "cell_type": "code",
   "execution_count": 214,
   "metadata": {},
   "outputs": [
    {
     "name": "stdout",
     "output_type": "stream",
     "text": [
      "{'key1': 0, 'key2': 0, 'key3': 0}\n"
     ]
    }
   ],
   "source": [
    "x = ('key1', 'key2', 'key3')\n",
    "y = 0\n",
    "thisdict = dict.fromkeys(x, y)\n",
    "print(thisdict)"
   ]
  },
  {
   "cell_type": "code",
   "execution_count": 218,
   "metadata": {},
   "outputs": [
    {
     "name": "stdout",
     "output_type": "stream",
     "text": [
      "{'key1': [1, 2, 3, 4], 'key2': [1, 2, 3, 4], 'key3': [1, 2, 3, 4]}\n"
     ]
    }
   ],
   "source": [
    "x = ('key1', 'key2', 'key3')\n",
    "y = [1,2,3,4]\n",
    "thisdict = dict.fromkeys(x, y)\n",
    "print(thisdict)"
   ]
  },
  {
   "cell_type": "code",
   "execution_count": null,
   "metadata": {},
   "outputs": [],
   "source": []
  },
  {
   "cell_type": "code",
   "execution_count": 91,
   "metadata": {},
   "outputs": [
    {
     "data": {
      "text/plain": [
       "'Mustang'"
      ]
     },
     "execution_count": 91,
     "metadata": {},
     "output_type": "execute_result"
    }
   ],
   "source": [
    "car.setdefault(\"model\", [\"sarfew\",\"Mustang\"])"
   ]
  },
  {
   "cell_type": "code",
   "execution_count": 101,
   "metadata": {},
   "outputs": [],
   "source": [
    "car.setdefault(\"m\",[]).append([\"uihjil\",\"syhju\",253])"
   ]
  },
  {
   "cell_type": "code",
   "execution_count": 102,
   "metadata": {
    "scrolled": true
   },
   "outputs": [
    {
     "data": {
      "text/plain": [
       "{'brand': 'Ford',\n",
       " 'model': 'Mustang',\n",
       " 'year': 1964,\n",
       " 'm': ['v', 'v', 'v', ['uihjil', 'syhju', 253]]}"
      ]
     },
     "execution_count": 102,
     "metadata": {},
     "output_type": "execute_result"
    }
   ],
   "source": [
    "car"
   ]
  },
  {
   "cell_type": "code",
   "execution_count": 112,
   "metadata": {},
   "outputs": [
    {
     "name": "stdout",
     "output_type": "stream",
     "text": [
      "dict_values(['Ford', 'Mustang', 1964])\n",
      "dict_values(['goru', 2020, 'red'])\n"
     ]
    }
   ],
   "source": [
    "# if you want to change value of a key you have to reassing it \n",
    "\n",
    "car = {\n",
    "\"brand\": \"Ford\",\n",
    "\"model\": \"Mustang\",\n",
    "\"year\": 1964}\n",
    "x = car.values()\n",
    "print(x) #before the change\n",
    "\n",
    "car[\"year\"] = 2020\n",
    "car.update({\"brand\": \"goru\"})\n",
    "car.update({\"color\": \"red\"})\n",
    "car.pop(\"model\")\n",
    "print(x) #after the change"
   ]
  },
  {
   "cell_type": "code",
   "execution_count": 109,
   "metadata": {
    "scrolled": false
   },
   "outputs": [
    {
     "name": "stdout",
     "output_type": "stream",
     "text": [
      "dict_keys(['brand', 'model', 'year'])\n",
      "dict_values(['Ford', 'Mustang', 2020])\n",
      "dict_items([('brand', 'Ford'), ('model', 'Mustang'), ('year', 2020)])\n"
     ]
    }
   ],
   "source": [
    "print(car.keys())\n",
    "print(car.values())\n",
    "print(car.items())"
   ]
  },
  {
   "cell_type": "code",
   "execution_count": 126,
   "metadata": {},
   "outputs": [
    {
     "name": "stdout",
     "output_type": "stream",
     "text": [
      "brand\n",
      "model\n",
      "year\n",
      "  Ford\n",
      "  Mustang\n",
      "  1964\n"
     ]
    }
   ],
   "source": [
    "thisdict = {\n",
    "  \"brand\": \"Ford\",\n",
    "  \"model\": \"Mustang\",\n",
    "  \"year\": 1964\n",
    "}\n",
    "\n",
    "for x in thisdict:\n",
    "    print(x)\n",
    "for x in thisdict:\n",
    "    print(\" \",thisdict[x])\n"
   ]
  },
  {
   "cell_type": "code",
   "execution_count": 124,
   "metadata": {},
   "outputs": [
    {
     "name": "stdout",
     "output_type": "stream",
     "text": [
      "{'brand': 'Ford', 'model': 'Mustang', 'year': 1964}\n",
      "{'brand': 'Ford', 'model': 'Mustang'}\n",
      "{'brand': 'Ford'}\n"
     ]
    }
   ],
   "source": [
    "print(thisdict)\n",
    "thisdict.popitem()\n",
    "print(thisdict)\n",
    "del thisdict[\"model\"]\n",
    "print(thisdict)"
   ]
  },
  {
   "cell_type": "code",
   "execution_count": 117,
   "metadata": {},
   "outputs": [
    {
     "name": "stdout",
     "output_type": "stream",
     "text": [
      "{'brand': 'Ford'}\n"
     ]
    },
    {
     "ename": "NameError",
     "evalue": "name 'thisdict' is not defined",
     "output_type": "error",
     "traceback": [
      "\u001b[0;31m---------------------------------------------------------------------------\u001b[0m",
      "\u001b[0;31mNameError\u001b[0m                                 Traceback (most recent call last)",
      "\u001b[0;32m<ipython-input-117-a7335a23a8f2>\u001b[0m in \u001b[0;36m<module>\u001b[0;34m\u001b[0m\n\u001b[1;32m      1\u001b[0m \u001b[0mprint\u001b[0m\u001b[0;34m(\u001b[0m\u001b[0mthisdict\u001b[0m\u001b[0;34m)\u001b[0m\u001b[0;34m\u001b[0m\u001b[0;34m\u001b[0m\u001b[0m\n\u001b[1;32m      2\u001b[0m \u001b[0;32mdel\u001b[0m \u001b[0mthisdict\u001b[0m\u001b[0;34m\u001b[0m\u001b[0;34m\u001b[0m\u001b[0m\n\u001b[0;32m----> 3\u001b[0;31m \u001b[0mprint\u001b[0m\u001b[0;34m(\u001b[0m\u001b[0mthisdict\u001b[0m\u001b[0;34m)\u001b[0m \u001b[0;31m#this will cause an error because \"thisdict\" no longer exists.\u001b[0m\u001b[0;34m\u001b[0m\u001b[0;34m\u001b[0m\u001b[0m\n\u001b[0m",
      "\u001b[0;31mNameError\u001b[0m: name 'thisdict' is not defined"
     ]
    }
   ],
   "source": [
    "print(thisdict)\n",
    "del thisdict\n",
    "print(thisdict) #this will cause an error because \"thisdict\" no longer exists."
   ]
  },
  {
   "cell_type": "code",
   "execution_count": 119,
   "metadata": {},
   "outputs": [
    {
     "name": "stdout",
     "output_type": "stream",
     "text": [
      "{'brand': 'Ford', 'model': 'Mustang', 'year': 1964}\n",
      "{}\n"
     ]
    }
   ],
   "source": [
    "thisdict = {\n",
    "  \"brand\": \"Ford\",\n",
    "  \"model\": \"Mustang\",\n",
    "  \"year\": 1964\n",
    "}\n",
    "print(thisdict)\n",
    "thisdict.clear()\n",
    "print(thisdict)"
   ]
  },
  {
   "cell_type": "code",
   "execution_count": null,
   "metadata": {},
   "outputs": [],
   "source": []
  },
  {
   "cell_type": "markdown",
   "metadata": {},
   "source": [
    "# Python Collections (Arrays)\n",
    "There are four collection data types in the Python programming language:\n",
    "\n",
    "- **List** is a collection which is ordered and changeable. Allows duplicate members.\\\n",
    "- **Tuple** is a collection which is ordered and unchangeable. Allows duplicate members.\\\n",
    "- **Set** is a collection which is unordered, unchangeable, and unindexed. No duplicate members.\\\n",
    "- **Dictionary** is a collection which is ordered and changeable. No duplicate members.\\\n",
    "When choosing a collection type, it is useful to understand the properties of that type. Choosing the right type for a particular data set could mean retention of meaning, and, it could mean an increase in efficiency or security."
   ]
  },
  {
   "cell_type": "code",
   "execution_count": null,
   "metadata": {},
   "outputs": [],
   "source": []
  },
  {
   "cell_type": "markdown",
   "metadata": {},
   "source": [
    "# Copy a Dictionary\n",
    "You cannot copy a dictionary simply by typing dict2 = dict1, because: dict2 will only be a reference to dict1, and changes made in dict1 will automatically also be made in dict2.\n",
    "\n",
    "There are ways to make a copy, one way is to use the built-in Dictionary method copy()."
   ]
  },
  {
   "cell_type": "code",
   "execution_count": 127,
   "metadata": {},
   "outputs": [
    {
     "name": "stdout",
     "output_type": "stream",
     "text": [
      "{'brand': 'Ford', 'model': 'Mustang', 'year': 1964}\n"
     ]
    }
   ],
   "source": [
    "thisdict = {\n",
    "  \"brand\": \"Ford\",\n",
    "  \"model\": \"Mustang\",\n",
    "  \"year\": 1964\n",
    "}\n",
    "mydict = thisdict.copy()\n",
    "print(mydict)"
   ]
  },
  {
   "cell_type": "code",
   "execution_count": 128,
   "metadata": {},
   "outputs": [
    {
     "name": "stdout",
     "output_type": "stream",
     "text": [
      "{'brand': 'Ford', 'model': 'Mustang', 'year': 1964}\n"
     ]
    }
   ],
   "source": [
    "thisdict = {\n",
    "  \"brand\": \"Ford\",\n",
    "  \"model\": \"Mustang\",\n",
    "  \"year\": 1964\n",
    "}\n",
    "mydict = dict(thisdict)\n",
    "print(mydict)"
   ]
  },
  {
   "cell_type": "markdown",
   "metadata": {},
   "source": [
    "# Nested dictionary"
   ]
  },
  {
   "cell_type": "code",
   "execution_count": 129,
   "metadata": {},
   "outputs": [
    {
     "data": {
      "text/plain": [
       "{'child1': {'name': 'Emil', 'year': 2004},\n",
       " 'child2': {'name': 'Tobias', 'year': 2007},\n",
       " 'child3': {'name': 'Linus', 'year': 2011}}"
      ]
     },
     "execution_count": 129,
     "metadata": {},
     "output_type": "execute_result"
    }
   ],
   "source": [
    "child1 = {\n",
    "  \"name\" : \"Emil\",\n",
    "  \"year\" : 2004\n",
    "}\n",
    "child2 = {\n",
    "  \"name\" : \"Tobias\",\n",
    "  \"year\" : 2007\n",
    "}\n",
    "child3 = {\n",
    "  \"name\" : \"Linus\",\n",
    "  \"year\" : 2011\n",
    "}\n",
    "\n",
    "myfamily = {\n",
    "  \"child1\" : child1,\n",
    "  \"child2\" : child2,\n",
    "  \"child3\" : child3\n",
    "}\n",
    "myfamily"
   ]
  },
  {
   "cell_type": "markdown",
   "metadata": {},
   "source": []
  },
  {
   "cell_type": "code",
   "execution_count": null,
   "metadata": {},
   "outputs": [],
   "source": [
    "if [ -z ${random_seed+x} ]; then export random_seed=13370; fi\n",
    "if [ -z ${numpy_seed+x} ]; then export numpy_seed=1337; fi\n",
    "if [ -z ${pytorch_seed+x} ]; then export pytorch_seed=133; fi\n",
    "export OUTPUT_BASE_PATH=${OUTPUT_DIR:-outputs/pwc_outputs/experiment_relations_only_${pytorch_seed}/$1}"
   ]
  },
  {
   "cell_type": "code",
   "execution_count": 141,
   "metadata": {},
   "outputs": [
    {
     "ename": "SyntaxError",
     "evalue": "invalid syntax (<ipython-input-141-83b5d4d14933>, line 3)",
     "output_type": "error",
     "traceback": [
      "\u001b[0;36m  File \u001b[0;32m\"<ipython-input-141-83b5d4d14933>\"\u001b[0;36m, line \u001b[0;32m3\u001b[0m\n\u001b[0;31m    if [ \"$gender\" == \"f*\" ]; then echo \"Pleasure to meet you, Madame.\"; fi\u001b[0m\n\u001b[0m                            ^\u001b[0m\n\u001b[0;31mSyntaxError\u001b[0m\u001b[0;31m:\u001b[0m invalid syntax\n"
     ]
    }
   ],
   "source": [
    "\n",
    "\n",
    "gender=\"male\"\n",
    "\n",
    "if [ \"$gender\" == \"f*\" ]; then echo \"Pleasure to meet you, Madame.\"; fi\n",
    "# else echo \"How come the lady hasn't got a drink yet?\"\n",
    "# fi\n",
    "# How come the lady hasn't got a drink yet?\n"
   ]
  },
  {
   "cell_type": "code",
   "execution_count": 143,
   "metadata": {},
   "outputs": [
    {
     "ename": "SyntaxError",
     "evalue": "invalid syntax (<ipython-input-143-dfd2b46f3300>, line 9)",
     "output_type": "error",
     "traceback": [
      "\u001b[0;36m  File \u001b[0;32m\"<ipython-input-143-dfd2b46f3300>\"\u001b[0;36m, line \u001b[0;32m9\u001b[0m\n\u001b[0;31m    idealweight=$[$height - 110]\u001b[0m\n\u001b[0m                ^\u001b[0m\n\u001b[0;31mSyntaxError\u001b[0m\u001b[0;31m:\u001b[0m invalid syntax\n"
     ]
    }
   ],
   "source": [
    "# anny ~> cat weight.sh\n",
    "#!/bin/bash\n",
    "\n",
    "# This script prints a message about your weight if you give it your\n",
    "# weight in kilos and height in centimeters.\n",
    "\n",
    "weight=\"$1\"\n",
    "height=\"$2\"\n",
    "idealweight=$[$height - 110]\n",
    "\n",
    "if [ $weight -le $idealweight ] ; then\n",
    "  echo \"You should eat a bit more fat.\"\n",
    "else\n",
    "  echo \"You should eat a bit more fruit.\"\n",
    "fi"
   ]
  },
  {
   "cell_type": "code",
   "execution_count": null,
   "metadata": {},
   "outputs": [],
   "source": []
  },
  {
   "cell_type": "code",
   "execution_count": null,
   "metadata": {},
   "outputs": [],
   "source": []
  },
  {
   "cell_type": "markdown",
   "metadata": {},
   "source": [
    "# 6th NOember 2021"
   ]
  },
  {
   "cell_type": "markdown",
   "metadata": {},
   "source": [
    "Constraints:\n",
    "0 <= N <= 10\n",
    "1 <= |S| <=15\n",
    " where |S| length of string S\n",
    "\n",
    "Sample Input\n",
    "5\n",
    "helloworld\n",
    "\n",
    "Sample Output\n",
    "10\n",
    "helloworld\n",
    "\n",
    "Time Limit: 1\n",
    "Memory Limit: 256\n",
    "Source Limit:"
   ]
  },
  {
   "cell_type": "code",
   "execution_count": 164,
   "metadata": {},
   "outputs": [
    {
     "name": "stdout",
     "output_type": "stream",
     "text": [
      "5\n",
      "mahendra\n",
      "10\n",
      "mahendra\n"
     ]
    }
   ],
   "source": [
    "n=int(input())\n",
    "\n",
    "s=input()\n",
    "\n",
    "if n in range(0,11):\n",
    "\n",
    "   if len(s) in range(1,16):\n",
    "\n",
    "       print(f'{n*2}\\n{s}')\n"
   ]
  },
  {
   "cell_type": "code",
   "execution_count": null,
   "metadata": {},
   "outputs": [],
   "source": []
  },
  {
   "cell_type": "markdown",
   "metadata": {},
   "source": [
    "Constraints \n",
    "1 <= |S| <= 100\n",
    "\n",
    "Note\n",
    "String S consists of lowercase English Alphabets only.\n",
    "\n",
    "Sample Input\n",
    "abcdcba\n",
    "\n",
    "Sample Output\n",
    "YES\n",
    "\n",
    "Time Limit: 1\n",
    "Memory Limit: 256\n",
    "Source Limit:"
   ]
  },
  {
   "cell_type": "code",
   "execution_count": 167,
   "metadata": {},
   "outputs": [
    {
     "name": "stdout",
     "output_type": "stream",
     "text": [
      "absba\n",
      "YES\n"
     ]
    }
   ],
   "source": [
    "s=input()\n",
    "if len(s) in range(1,101):\n",
    "    if s[0:len(s)//2]==s[::-1][0:len(s)//2]:\n",
    "#     if t[0:]==t[::-1]:\n",
    "        print(\"YES\")\n",
    "    else:\n",
    "        print(\"NO\")"
   ]
  },
  {
   "cell_type": "code",
   "execution_count": 168,
   "metadata": {},
   "outputs": [
    {
     "name": "stdout",
     "output_type": "stream",
     "text": [
      "mahiham\n",
      "YES\n"
     ]
    }
   ],
   "source": [
    "t=input()\n",
    "if t[0:]== t[::-1]:\n",
    "    print(\"YES\")\n",
    "else:\n",
    "    print('NO')"
   ]
  },
  {
   "cell_type": "code",
   "execution_count": null,
   "metadata": {},
   "outputs": [],
   "source": []
  },
  {
   "cell_type": "code",
   "execution_count": 174,
   "metadata": {},
   "outputs": [
    {
     "name": "stdout",
     "output_type": "stream",
     "text": [
      "ZZOOOO\n",
      "Yes\n"
     ]
    }
   ],
   "source": [
    "zoo=input().lower()\n",
    "if len(zoo)%3 == 0:\n",
    "    if zoo[int(len(zoo)/3 -1)]== \"z\" and zoo[int(len(zoo)/3) ]== \"o\":\n",
    "        print(\"Yes\")\n",
    "    else:\n",
    "        print(\"NO\")\n",
    "else:\n",
    "    print(\"NO\")"
   ]
  },
  {
   "cell_type": "code",
   "execution_count": null,
   "metadata": {},
   "outputs": [],
   "source": [
    "t=input()\n",
    "[n,k]=input().split(\" \")\n",
    "\n",
    "def x_base([n,k]):"
   ]
  },
  {
   "cell_type": "code",
   "execution_count": 175,
   "metadata": {},
   "outputs": [
    {
     "ename": "TypeError",
     "evalue": "int() argument must be a string, a bytes-like object or a number, not 'list'",
     "output_type": "error",
     "traceback": [
      "\u001b[0;31m---------------------------------------------------------------------------\u001b[0m",
      "\u001b[0;31mTypeError\u001b[0m                                 Traceback (most recent call last)",
      "\u001b[0;32m<ipython-input-175-760349c5c1c7>\u001b[0m in \u001b[0;36m<module>\u001b[0;34m\u001b[0m\n\u001b[0;32m----> 1\u001b[0;31m \u001b[0mint\u001b[0m\u001b[0;34m(\u001b[0m\u001b[0;34m[\u001b[0m\u001b[0;34m\"2\"\u001b[0m\u001b[0;34m,\u001b[0m\u001b[0;34m\"4\"\u001b[0m\u001b[0;34m]\u001b[0m\u001b[0;34m)\u001b[0m\u001b[0;34m\u001b[0m\u001b[0;34m\u001b[0m\u001b[0m\n\u001b[0m",
      "\u001b[0;31mTypeError\u001b[0m: int() argument must be a string, a bytes-like object or a number, not 'list'"
     ]
    }
   ],
   "source": [
    "[\"2\",\"4\"]."
   ]
  },
  {
   "cell_type": "code",
   "execution_count": null,
   "metadata": {},
   "outputs": [],
   "source": []
  },
  {
   "cell_type": "code",
   "execution_count": 189,
   "metadata": {},
   "outputs": [],
   "source": [
    "def rep(n,k):\n",
    "    lst=[]\n",
    "    while n != 0:\n",
    "        lst.append(str(n%k))\n",
    "        n= n//k\n",
    "    return \"\".join(lst[::-1])"
   ]
  },
  {
   "cell_type": "code",
   "execution_count": 196,
   "metadata": {},
   "outputs": [
    {
     "data": {
      "text/plain": [
       "'123'"
      ]
     },
     "execution_count": 196,
     "metadata": {},
     "output_type": "execute_result"
    }
   ],
   "source": [
    "rep(51,6)"
   ]
  },
  {
   "cell_type": "code",
   "execution_count": 212,
   "metadata": {},
   "outputs": [],
   "source": [
    "def single(n,k):\n",
    "    \n",
    "    def rep(nn,kk):\n",
    "        lst=[]\n",
    "        while nn != 0:\n",
    "            lst.append(str(nn%kk))\n",
    "            print(\"\".join(lst[::-1]),nn)\n",
    "            nn= nn//kk\n",
    "\n",
    "        return len(lst)\n",
    "    output=0\n",
    "    for i in range(n+1):\n",
    "        output += rep(i,k)\n",
    "        print(\"dsnvj\")\n",
    "    return output +1\n",
    "    \n",
    "    "
   ]
  },
  {
   "cell_type": "code",
   "execution_count": 214,
   "metadata": {
    "collapsed": true
   },
   "outputs": [
    {
     "name": "stdout",
     "output_type": "stream",
     "text": [
      "dsnvj\n",
      "1 1\n",
      "dsnvj\n",
      "2 2\n",
      "dsnvj\n",
      "0 3\n",
      "10 1\n",
      "dsnvj\n",
      "1 4\n",
      "11 1\n",
      "dsnvj\n",
      "2 5\n",
      "12 1\n",
      "dsnvj\n",
      "0 6\n",
      "20 2\n",
      "dsnvj\n",
      "1 7\n",
      "21 2\n",
      "dsnvj\n",
      "2 8\n",
      "22 2\n",
      "dsnvj\n"
     ]
    },
    {
     "data": {
      "text/plain": [
       "15"
      ]
     },
     "execution_count": 214,
     "metadata": {},
     "output_type": "execute_result"
    }
   ],
   "source": [
    "single(8,3)"
   ]
  },
  {
   "cell_type": "code",
   "execution_count": 217,
   "metadata": {},
   "outputs": [
    {
     "name": "stdout",
     "output_type": "stream",
     "text": [
      "2\n",
      "4 2\n"
     ]
    }
   ],
   "source": [
    "def x_base(string):\n",
    "    [n,k] = string.split()\n",
    "    n=int(n)\n",
    "    k=int(k)\n",
    "\n",
    "    def rep(nn,kk):\n",
    "        lst =[]\n",
    "        while nn!= 0:\n",
    "            lst.append(nn%kk)\n",
    "            nn=nn//kk\n",
    "        return len(lst)\n",
    "    output=0\n",
    "    for i in range(n+1):\n",
    "        output += rep(i,k)\n",
    "    print(output +1)\n",
    "        \n",
    "t= input()\n",
    "# if t in range(1,10^3 +1):\n",
    "string = input() \n",
    "x_base(string)"
   ]
  },
  {
   "cell_type": "code",
   "execution_count": 219,
   "metadata": {},
   "outputs": [
    {
     "name": "stdout",
     "output_type": "stream",
     "text": [
      "4 2\n",
      "6\n"
     ]
    }
   ],
   "source": [
    "def x_base(string):\n",
    "    [n,k] = string.split()\n",
    "    n=int(n)\n",
    "    k=int(k)\n",
    "    print(n+k)\n",
    "string = input() \n",
    "x_base(string)"
   ]
  },
  {
   "cell_type": "code",
   "execution_count": 221,
   "metadata": {},
   "outputs": [
    {
     "name": "stdout",
     "output_type": "stream",
     "text": [
      "2\n"
     ]
    },
    {
     "ename": "TypeError",
     "evalue": "'str' object cannot be interpreted as an integer",
     "output_type": "error",
     "traceback": [
      "\u001b[0;31m---------------------------------------------------------------------------\u001b[0m",
      "\u001b[0;31mTypeError\u001b[0m                                 Traceback (most recent call last)",
      "\u001b[0;32m<ipython-input-221-f99ef824bf28>\u001b[0m in \u001b[0;36m<module>\u001b[0;34m\u001b[0m\n\u001b[1;32m      1\u001b[0m \u001b[0mt\u001b[0m\u001b[0;34m=\u001b[0m\u001b[0minput\u001b[0m\u001b[0;34m(\u001b[0m\u001b[0;34m)\u001b[0m\u001b[0;34m\u001b[0m\u001b[0;34m\u001b[0m\u001b[0m\n\u001b[0;32m----> 2\u001b[0;31m \u001b[0;32mfor\u001b[0m \u001b[0mi\u001b[0m \u001b[0;32min\u001b[0m \u001b[0mrange\u001b[0m\u001b[0;34m(\u001b[0m\u001b[0mt\u001b[0m\u001b[0;34m)\u001b[0m\u001b[0;34m:\u001b[0m\u001b[0;34m\u001b[0m\u001b[0;34m\u001b[0m\u001b[0m\n\u001b[0m\u001b[1;32m      3\u001b[0m     \u001b[0mstring\u001b[0m\u001b[0;34m=\u001b[0m\u001b[0minput\u001b[0m\u001b[0;34m(\u001b[0m\u001b[0;34m)\u001b[0m\u001b[0;34m\u001b[0m\u001b[0;34m\u001b[0m\u001b[0m\n",
      "\u001b[0;31mTypeError\u001b[0m: 'str' object cannot be interpreted as an integer"
     ]
    }
   ],
   "source": [
    "t=input()\n",
    "for i in range(t):\n",
    "    string=input()"
   ]
  },
  {
   "cell_type": "code",
   "execution_count": null,
   "metadata": {},
   "outputs": [],
   "source": [
    "'''\n",
    "# Sample code to perform I/O:\n",
    "\n",
    "name = input()                  # Reading input from STDIN\n",
    "print('Hi, %s.' % name)         # Writing output to STDOUT\n",
    "\n",
    "# Warning: Printing unwanted or ill-formatted data to output will cause the test cases to fail\n",
    "'''\n",
    "\n",
    "# Write your code here\n",
    "t=input()\n",
    "for i in range(int(t)):\n",
    "    string=input()\n",
    "    [n,k] = string.split()\n",
    "    n=int(n)\n",
    "    k=int(k)\n",
    "\n",
    "    output=0\n",
    "    for i in range(n+1):\n",
    "        lst =[]\n",
    "        while i!= 0:\n",
    "            lst.append(i%k)\n",
    "            i=i//k\n",
    "        output += len(lst)\n",
    "    print(output +1)"
   ]
  },
  {
   "cell_type": "code",
   "execution_count": null,
   "metadata": {},
   "outputs": [],
   "source": [
    "t=input()\n",
    "for i in range(int(t)):\n",
    "    string=input()\n",
    "    [n,k] = string.split()\n",
    "    n=int(n)\n",
    "    k=int(k)\n",
    "\n",
    "    mahi=0\n",
    "    for i in range(n+1):\n",
    "        lst =[]\n",
    "        while i!= 0:\n",
    "            mahi += 1\n",
    "            i=i//k\n",
    "    print(mahi +1)"
   ]
  },
  {
   "cell_type": "code",
   "execution_count": null,
   "metadata": {},
   "outputs": [],
   "source": [
    "24 4   0-3 1   4- 4^4-1  2   "
   ]
  },
  {
   "cell_type": "code",
   "execution_count": null,
   "metadata": {},
   "outputs": [],
   "source": [
    "( 1 + log 2 5 ) "
   ]
  },
  {
   "cell_type": "code",
   "execution_count": null,
   "metadata": {},
   "outputs": [],
   "source": [
    "101"
   ]
  },
  {
   "cell_type": "markdown",
   "metadata": {},
   "source": [
    "# 7TH NOVEMBER 2021"
   ]
  },
  {
   "cell_type": "code",
   "execution_count": 63,
   "metadata": {},
   "outputs": [],
   "source": [
    "def sqrt(x):\n",
    "    a=0\n",
    "    b=x\n",
    "    while b-a!=1:\n",
    "        i=(a+b)//2\n",
    "        \n",
    "        if i**2 > x:\n",
    "            b=i\n",
    "        else:\n",
    "            a=i\n",
    "    return a           \n",
    "            \n",
    "assert(sqrt(5) == 2)\n",
    "assert(sqrt(10) == 3)\n",
    "assert(sqrt(9) == 3)     "
   ]
  },
  {
   "cell_type": "code",
   "execution_count": 61,
   "metadata": {},
   "outputs": [],
   "source": [
    "\"\"\"\n",
    "t=\"dra\"\n",
    "s=\"mahendra\"\n",
    "return 5\n",
    "t=\"dre\"\n",
    "m=\"mahendra\"\n",
    "return -1\n",
    "\"\"\"\n",
    "\n",
    "def strStr(s, t):\n",
    "    result=-1\n",
    "    for i in range(len(s)):\n",
    "        if s[i]==t[0]:\n",
    "            if s[i:i+len(t)]==t:\n",
    "                result= i\n",
    "                break\n",
    "    return result\n",
    "\n",
    "def strStr(s, t):\n",
    "    result=-1\n",
    "    for i in range(len(s)-len(t)+1):\n",
    "        if s[i]==t[0]:\n",
    "            mahi=1\n",
    "            for j in range(1,len(t)):\n",
    "                if s[i+j]== t[j]:\n",
    "                    mahi+=1\n",
    "                else:\n",
    "                    break\n",
    "            if mahi==len(t):\n",
    "                return i\n",
    "    return -1\n",
    "assert(strStr(\"mahendra\", \"dra\") == 5)\n",
    "assert(strStr(\"mahendra\", \"dre\") == -1)"
   ]
  },
  {
   "cell_type": "code",
   "execution_count": 46,
   "metadata": {},
   "outputs": [
    {
     "data": {
      "text/plain": [
       "1"
      ]
     },
     "execution_count": 46,
     "metadata": {},
     "output_type": "execute_result"
    }
   ],
   "source": [
    "strStr(\"abcdabcd\",\"bcdabcd\")"
   ]
  },
  {
   "cell_type": "code",
   "execution_count": 49,
   "metadata": {},
   "outputs": [
    {
     "name": "stdout",
     "output_type": "stream",
     "text": [
      "123\n",
      "[123]\n"
     ]
    }
   ],
   "source": [
    "print(list(map(int,input().split())))"
   ]
  },
  {
   "cell_type": "code",
   "execution_count": 56,
   "metadata": {
    "code_folding": [
     7
    ]
   },
   "outputs": [
    {
     "name": "stdout",
     "output_type": "stream",
     "text": [
      "3\n",
      "10 00 10\n",
      "Yes\n"
     ]
    }
   ],
   "source": [
    "# n= int(input())\n",
    "# A=list(input().split())\n",
    "\n",
    "\n",
    "# for i in range(len(A)):\n",
    "#     mahi=0\n",
    "#     if int(A[i])!=0:\n",
    "#         if A[i][-1]==\"0\":\n",
    "#             mahi=1\n",
    "# #     else:\n",
    "# #         mahi=1\n",
    "# if mahi==1:\n",
    "#     print(\"Yes\")\n",
    "# else:\n",
    "#     print(\"No\")"
   ]
  },
  {
   "cell_type": "markdown",
   "metadata": {},
   "source": [
    "**Input format**\n",
    "\n",
    "First line: A single integer  denoting the size of array \\\n",
    "Second line:  space-separated integers.\\\n",
    "**Output format**\n",
    "\n",
    "If the number is divisible by , then print \"Yes\" . Otherwise, print \"No\" ."
   ]
  },
  {
   "cell_type": "code",
   "execution_count": 60,
   "metadata": {},
   "outputs": [
    {
     "name": "stdout",
     "output_type": "stream",
     "text": [
      "3\n",
      "14 10 15\n",
      "No\n"
     ]
    }
   ],
   "source": [
    "#if last is 0 its divisble else not\n",
    "\n",
    "N=int(input())\n",
    "array=input().split()\n",
    "if int(array[N-1][-1])==0:\n",
    "    print('Yes')\n",
    "else:\n",
    "    print('No')\n",
    "    "
   ]
  },
  {
   "cell_type": "code",
   "execution_count": 66,
   "metadata": {},
   "outputs": [
    {
     "name": "stdout",
     "output_type": "stream",
     "text": [
      "2 1\n",
      "2 1\n"
     ]
    }
   ],
   "source": [
    "[m,n]=list(map(int,input().split()))\n",
    "print(m,n)"
   ]
  },
  {
   "cell_type": "markdown",
   "metadata": {},
   "source": [
    "# 8th November 2021"
   ]
  },
  {
   "cell_type": "markdown",
   "metadata": {},
   "source": [
    "## list operations"
   ]
  },
  {
   "cell_type": "markdown",
   "metadata": {},
   "source": [
    "    l.append(value)             only at the last position\n",
    "    l.clear()                   remove all element and make the list empty\n",
    "    l.copy()                    Return a shallow copy of the list.\n",
    "    l.count(value)              count the no of occurences of the value          \n",
    "    l.extend(*iterable*)        takes a list or range() and extend the list at th end\n",
    "    l.index(value)              Return first index of value. \n",
    "    l.insert(index, *object*)   Insert object before index\n",
    "    l.pop(index=-1)             Remove and return item at index (default last).\n",
    "    l.remove(value)             Remove first occurrence of value.\n",
    "    l.reverse()                 Reverse *IN PLACE*.\n",
    "\n",
    "    l.sort(key=None,reverse=False)          Sort the list in ascending order and return None. *IN PLACE* and                                                   stable(i.e. the order of two equal elements is maintained)\n",
    "    \n",
    "    ** sorted(*iterable*, key=None, reverse=False)       not *IN PLACE*,so Return a new list from the iterable in                                                          ascending order.\n",
    "\n",
    "---------------------------------------------------------------------------\n",
    "\n",
    " ​​\n",
    "\n",
    "\n",
    "\n",
    "def fn(x):\n",
    "\n",
    "    return x**3\n",
    "\n",
    "lst=[2,-3,5,3,4]\n",
    "\n",
    "lst.sort(key= fn,reverse=True)\n",
    "\n",
    "lst  ## > [5, 4, 3, 2, -3]\n",
    "\n",
    "\n",
    "\n",
    "\n",
    "## How to remove a particular(nth) element from list:\n",
    "* using: l.pop()  ## this operation return the deleted element \n",
    "* using slicing:  l= l[:n-1] + l[n:]\n",
    "* using: del l[n-1]\n",
    "\n",
    "\n",
    "## Concatinating two list:\n",
    "* list3 = list1 + list2\n",
    "* list3= list1.extend(list2)\n",
    "* res_list = [*list1, *list2]\n",
    "* using for loop and l.append()\n",
    "* res_list = [y for x in [list1,list2] for y in x]\n",
    "* import itertools ; list3 = list(itertools.chain(list1, list2))\n",
    "\n",
    "\n",
    "## making a list of int to string:\n",
    "* print( \" \".join([str(i) for i in a]) )\n",
    "* print(\" \".join(list(map(str,a))))\n",
    "\n"
   ]
  },
  {
   "cell_type": "code",
   "execution_count": 78,
   "metadata": {
    "scrolled": true
   },
   "outputs": [
    {
     "name": "stdout",
     "output_type": "stream",
     "text": [
      "None\n"
     ]
    }
   ],
   "source": [
    "l=[1,3,2].sort()\n",
    "print(l)"
   ]
  },
  {
   "cell_type": "code",
   "execution_count": 110,
   "metadata": {},
   "outputs": [
    {
     "data": {
      "text/plain": [
       "[1, 2, 3]"
      ]
     },
     "execution_count": 110,
     "metadata": {},
     "output_type": "execute_result"
    }
   ],
   "source": [
    "l=[1,3,2]\n",
    "l.sort()\n",
    "l"
   ]
  },
  {
   "cell_type": "code",
   "execution_count": 119,
   "metadata": {},
   "outputs": [
    {
     "name": "stdout",
     "output_type": "stream",
     "text": [
      "[1, 2, 3]\n",
      "[1, 3, 2]\n"
     ]
    }
   ],
   "source": [
    "l=[1,3,2]\n",
    "print(sorted(l))\n",
    "print(l)"
   ]
  },
  {
   "cell_type": "code",
   "execution_count": 120,
   "metadata": {},
   "outputs": [
    {
     "data": {
      "text/plain": [
       "[1, 2, 3]"
      ]
     },
     "execution_count": 120,
     "metadata": {},
     "output_type": "execute_result"
    }
   ],
   "source": [
    "l1=sorted(l)\n",
    "l1"
   ]
  },
  {
   "cell_type": "code",
   "execution_count": 164,
   "metadata": {},
   "outputs": [
    {
     "data": {
      "text/plain": [
       "[5, 504, 6, 7, 8, [504, 220, 284], 9, 10, 100, 68]"
      ]
     },
     "execution_count": 164,
     "metadata": {},
     "output_type": "execute_result"
    }
   ],
   "source": [
    "l1=list(range(5,11))\n",
    "\n",
    "l1.insert(1,504)\n",
    "l1.insert(5,[504,220,284])\n",
    "l1.insert(10,100)\n",
    "l1.insert(1000,68)\n",
    "l1"
   ]
  },
  {
   "cell_type": "code",
   "execution_count": 165,
   "metadata": {},
   "outputs": [
    {
     "data": {
      "text/plain": [
       "[5, 504, 6, 7, 8, [504, 220, 284], 9, 100, 68]"
      ]
     },
     "execution_count": 165,
     "metadata": {},
     "output_type": "execute_result"
    }
   ],
   "source": [
    "l1.remove(10)\n",
    "l1"
   ]
  },
  {
   "cell_type": "code",
   "execution_count": 166,
   "metadata": {},
   "outputs": [
    {
     "data": {
      "text/plain": [
       "68"
      ]
     },
     "execution_count": 166,
     "metadata": {},
     "output_type": "execute_result"
    }
   ],
   "source": [
    "l1.pop()"
   ]
  },
  {
   "cell_type": "code",
   "execution_count": 167,
   "metadata": {},
   "outputs": [
    {
     "data": {
      "text/plain": [
       "6"
      ]
     },
     "execution_count": 167,
     "metadata": {},
     "output_type": "execute_result"
    }
   ],
   "source": [
    "l1.pop(2)"
   ]
  },
  {
   "cell_type": "code",
   "execution_count": 168,
   "metadata": {},
   "outputs": [
    {
     "data": {
      "text/plain": [
       "[100, 9, [504, 220, 284], 8, 7, 504, 5]"
      ]
     },
     "execution_count": 168,
     "metadata": {},
     "output_type": "execute_result"
    }
   ],
   "source": [
    "l1.reverse()\n",
    "l1"
   ]
  },
  {
   "cell_type": "code",
   "execution_count": 169,
   "metadata": {},
   "outputs": [],
   "source": [
    "# l1.clear()\n",
    "# print(l1)"
   ]
  },
  {
   "cell_type": "code",
   "execution_count": 170,
   "metadata": {},
   "outputs": [
    {
     "data": {
      "text/plain": [
       "1"
      ]
     },
     "execution_count": 170,
     "metadata": {},
     "output_type": "execute_result"
    }
   ],
   "source": [
    "l1.count(8)"
   ]
  },
  {
   "cell_type": "code",
   "execution_count": 171,
   "metadata": {},
   "outputs": [
    {
     "data": {
      "text/plain": [
       "[100, 9, [504, 220, 284], 8, 7, 504, 5]"
      ]
     },
     "execution_count": 171,
     "metadata": {},
     "output_type": "execute_result"
    }
   ],
   "source": [
    "l1"
   ]
  },
  {
   "cell_type": "code",
   "execution_count": 172,
   "metadata": {},
   "outputs": [
    {
     "data": {
      "text/plain": [
       "[100, 9, [504, 220, 284], 8, 7, 504, 5, 2, 3, 4, 14, 13]"
      ]
     },
     "execution_count": 172,
     "metadata": {},
     "output_type": "execute_result"
    }
   ],
   "source": [
    "l1.extend([2,3,4,14,13])\n",
    "l1"
   ]
  },
  {
   "cell_type": "code",
   "execution_count": 173,
   "metadata": {},
   "outputs": [
    {
     "data": {
      "text/plain": [
       "10"
      ]
     },
     "execution_count": 173,
     "metadata": {},
     "output_type": "execute_result"
    }
   ],
   "source": [
    "l1.index(14)"
   ]
  },
  {
   "cell_type": "code",
   "execution_count": 174,
   "metadata": {},
   "outputs": [
    {
     "data": {
      "text/plain": [
       "[100, 9, [504, 220, 284], 8, 7, 504, 5, 2, 3, 4, 14, 13, 1, 2, 3, 4]"
      ]
     },
     "execution_count": 174,
     "metadata": {},
     "output_type": "execute_result"
    }
   ],
   "source": [
    "l1.extend(range(1,5))\n",
    "l1"
   ]
  },
  {
   "cell_type": "code",
   "execution_count": 175,
   "metadata": {},
   "outputs": [
    {
     "ename": "TypeError",
     "evalue": "'<' not supported between instances of 'list' and 'int'",
     "output_type": "error",
     "traceback": [
      "\u001b[0;31m---------------------------------------------------------------------------\u001b[0m",
      "\u001b[0;31mTypeError\u001b[0m                                 Traceback (most recent call last)",
      "\u001b[0;32m<ipython-input-175-b8f5f256bbcf>\u001b[0m in \u001b[0;36m<module>\u001b[0;34m\u001b[0m\n\u001b[0;32m----> 1\u001b[0;31m \u001b[0ml1\u001b[0m\u001b[0;34m.\u001b[0m\u001b[0msort\u001b[0m\u001b[0;34m(\u001b[0m\u001b[0;34m)\u001b[0m\u001b[0;34m\u001b[0m\u001b[0;34m\u001b[0m\u001b[0m\n\u001b[0m",
      "\u001b[0;31mTypeError\u001b[0m: '<' not supported between instances of 'list' and 'int'"
     ]
    }
   ],
   "source": [
    "l1.sort()"
   ]
  },
  {
   "cell_type": "code",
   "execution_count": 186,
   "metadata": {},
   "outputs": [
    {
     "data": {
      "text/plain": [
       "[-3, 2, 3, 4, 5]"
      ]
     },
     "execution_count": 186,
     "metadata": {},
     "output_type": "execute_result"
    }
   ],
   "source": [
    "lst=[2,-3,5,3,4]\n",
    "lst.sort()\n",
    "lst"
   ]
  },
  {
   "cell_type": "code",
   "execution_count": 187,
   "metadata": {},
   "outputs": [
    {
     "data": {
      "text/plain": [
       "[2, -3, 3, 4, 5]"
      ]
     },
     "execution_count": 187,
     "metadata": {},
     "output_type": "execute_result"
    }
   ],
   "source": [
    "lst=[2,-3,5,3,4]\n",
    "lst.sort(key=lambda x: x**2)\n",
    "lst"
   ]
  },
  {
   "cell_type": "code",
   "execution_count": 195,
   "metadata": {},
   "outputs": [
    {
     "data": {
      "text/plain": [
       "[5, 4, 3, 2, -3]"
      ]
     },
     "execution_count": 195,
     "metadata": {},
     "output_type": "execute_result"
    }
   ],
   "source": [
    "def fn(x):\n",
    "    return x**3\n",
    "\n",
    "lst=[2,-3,5,3,4]\n",
    "lst.sort(key= fn,reverse=True)\n",
    "lst"
   ]
  },
  {
   "cell_type": "code",
   "execution_count": 196,
   "metadata": {},
   "outputs": [],
   "source": [
    "del lst[-1]"
   ]
  },
  {
   "cell_type": "code",
   "execution_count": 197,
   "metadata": {},
   "outputs": [
    {
     "data": {
      "text/plain": [
       "[5, 4, 3, 2]"
      ]
     },
     "execution_count": 197,
     "metadata": {},
     "output_type": "execute_result"
    }
   ],
   "source": [
    "lst"
   ]
  },
  {
   "cell_type": "code",
   "execution_count": 199,
   "metadata": {},
   "outputs": [
    {
     "data": {
      "text/plain": [
       "[5, 4, 3, 2]"
      ]
     },
     "execution_count": 199,
     "metadata": {},
     "output_type": "execute_result"
    }
   ],
   "source": [
    "lst[:2]+lst[2:]"
   ]
  },
  {
   "cell_type": "code",
   "execution_count": null,
   "metadata": {},
   "outputs": [],
   "source": []
  },
  {
   "cell_type": "code",
   "execution_count": 202,
   "metadata": {},
   "outputs": [
    {
     "data": {
      "text/plain": [
       "[1, 2, 3, 4, 5, 6]"
      ]
     },
     "execution_count": 202,
     "metadata": {},
     "output_type": "execute_result"
    }
   ],
   "source": [
    "l = [1, 2, 3]\n",
    "r = range(4, 7)\n",
    "# res = l + r\n",
    "res = [*l, *r]\n",
    "res"
   ]
  },
  {
   "cell_type": "code",
   "execution_count": null,
   "metadata": {},
   "outputs": [],
   "source": []
  },
  {
   "cell_type": "markdown",
   "metadata": {},
   "source": [
    "    Input:\n",
    "    The first line will consists of one integer T denoting the number of test cases.\n",
    "    For each test case:\n",
    "    1) The first line consists of two integers N and K, N being the number of elements in the array and K denotes the number of steps of rotation.\n",
    "    2) The next line consists of N space separated integers , denoting the elements of the array A.\n",
    "    Output:\n",
    "    Print the required array.\n",
    "\n",
    "    Constraints:\n",
    "    t in range(1,21)\n",
    "    n in range(1,10**5 +1)\n",
    "    k in range(0,10**6 +1)\n",
    "    a[i] in range(0,10**6 +1) \n",
    "\n",
    "\n",
    "    Sample Input\n",
    "    1\n",
    "    5 2\n",
    "    1 2 3 4 5\n",
    "    Sample Output\n",
    "    4 5 1 2 3\n"
   ]
  },
  {
   "cell_type": "code",
   "execution_count": null,
   "metadata": {},
   "outputs": [],
   "source": [
    "# this is not optimal\n",
    "\n",
    "t= int(input())\n",
    "if t in range(1,21) :\n",
    "    for _ in range(t):\n",
    "        [n,k]=list(map(int,input().split()))\n",
    "        a= list(map(int,input().split()))\n",
    "        if n in range(1,10**5 +1) and k in range(0,10**6 +1) and sum([i in range(0,10**6 +1) for i in a])==len(a):\n",
    "            for j in range(k):\n",
    "                a.insert(0,a[-1])\n",
    "                a=a[:-1]\n",
    "            print( \" \".join([str(i) for i in a]) )"
   ]
  },
  {
   "cell_type": "code",
   "execution_count": 211,
   "metadata": {},
   "outputs": [
    {
     "name": "stdout",
     "output_type": "stream",
     "text": [
      "1\n",
      "5 2\n",
      "1 2 3 4 5\n",
      "4 5 1 2 3\n"
     ]
    }
   ],
   "source": [
    "# This is optimal\n",
    "t= int(input())\n",
    "if t in range(1,21) :\n",
    "    for _ in range(t):\n",
    "        [n,k]=list(map(int,input().split()))\n",
    "        a= list(map(int,input().split()))\n",
    "        if n in range(1,10**5 +1) and k in range(0,10**6 +1) and sum([i in range(0,10**6 +1) for i in a])==len(a):\n",
    "            if k<n:\n",
    "                a=a[-k:]+a[:-k]\n",
    "            elif k>n:\n",
    "                a=a[-(k%n):]+a[:-(k%n)]\n",
    "#             print( \" \".join([str(i) for i in a]) )\n",
    "            print(\" \".join(list(map(str,a))))"
   ]
  },
  {
   "cell_type": "code",
   "execution_count": null,
   "metadata": {},
   "outputs": [],
   "source": []
  },
  {
   "cell_type": "code",
   "execution_count": 210,
   "metadata": {},
   "outputs": [
    {
     "data": {
      "text/plain": [
       "'1 12 15 21 131'"
      ]
     },
     "execution_count": 210,
     "metadata": {},
     "output_type": "execute_result"
    }
   ],
   "source": [
    "list_int = [1, 12, 15, 21, 131]\n",
    "# mapping \n",
    "list_string = list(map(str, list_int))\n",
    "\" \".join(list_string)"
   ]
  },
  {
   "cell_type": "code",
   "execution_count": 212,
   "metadata": {},
   "outputs": [
    {
     "name": "stdout",
     "output_type": "stream",
     "text": [
      "['4.00', '3.00', '2.00', '1.00', '10.00', '14.00', '-14.00']\n"
     ]
    }
   ],
   "source": [
    "a = [4, 3, 2, 1, 10, 14, -14]\n",
    "strings = ['{:.2f}'.format(x) for x in a]\n",
    "print(strings)"
   ]
  },
  {
   "cell_type": "code",
   "execution_count": null,
   "metadata": {},
   "outputs": [],
   "source": []
  },
  {
   "cell_type": "code",
   "execution_count": null,
   "metadata": {},
   "outputs": [],
   "source": [
    "def merge_sorted_array(nums1, nums2):\n",
    "    i=0\n",
    "    j=0\n",
    "    res=[]\n",
    "    while i<len(nums1) and j< len(nums2):\n",
    "        if nums1[i]<nums2[j]:\n",
    "            res.append(nums1[i])\n",
    "            i+=1\n",
    "        else:\n",
    "            res.append(nums2[j])\n",
    "            j+=1\n",
    "    if j==len(nums2):\n",
    "        res.extend(nums1[i:])\n",
    "    else:\n",
    "        res.extend(nums2[j:])\n",
    "    return res\n",
    "\n",
    "    return []\n",
    "\n",
    "assert(merge_sorted_array([1,2,3], [2,5,6]) == [1,2,2,3,5,6])\n",
    "assert(merge_sorted_array([1], []) == [1])\n"
   ]
  },
  {
   "cell_type": "code",
   "execution_count": null,
   "metadata": {},
   "outputs": [],
   "source": []
  },
  {
   "cell_type": "code",
   "execution_count": null,
   "metadata": {},
   "outputs": [],
   "source": []
  },
  {
   "cell_type": "code",
   "execution_count": null,
   "metadata": {},
   "outputs": [],
   "source": []
  },
  {
   "cell_type": "code",
   "execution_count": null,
   "metadata": {},
   "outputs": [],
   "source": []
  },
  {
   "cell_type": "code",
   "execution_count": null,
   "metadata": {},
   "outputs": [],
   "source": []
  },
  {
   "cell_type": "code",
   "execution_count": null,
   "metadata": {},
   "outputs": [],
   "source": []
  },
  {
   "cell_type": "code",
   "execution_count": null,
   "metadata": {},
   "outputs": [],
   "source": []
  },
  {
   "cell_type": "code",
   "execution_count": null,
   "metadata": {},
   "outputs": [],
   "source": []
  },
  {
   "cell_type": "code",
   "execution_count": null,
   "metadata": {},
   "outputs": [],
   "source": []
  },
  {
   "cell_type": "code",
   "execution_count": null,
   "metadata": {},
   "outputs": [],
   "source": []
  },
  {
   "cell_type": "code",
   "execution_count": null,
   "metadata": {},
   "outputs": [],
   "source": []
  },
  {
   "cell_type": "code",
   "execution_count": null,
   "metadata": {},
   "outputs": [],
   "source": []
  },
  {
   "cell_type": "code",
   "execution_count": null,
   "metadata": {},
   "outputs": [],
   "source": []
  },
  {
   "cell_type": "code",
   "execution_count": null,
   "metadata": {},
   "outputs": [],
   "source": []
  },
  {
   "cell_type": "code",
   "execution_count": null,
   "metadata": {},
   "outputs": [],
   "source": []
  },
  {
   "cell_type": "code",
   "execution_count": null,
   "metadata": {},
   "outputs": [],
   "source": []
  },
  {
   "cell_type": "code",
   "execution_count": null,
   "metadata": {},
   "outputs": [],
   "source": []
  },
  {
   "cell_type": "code",
   "execution_count": null,
   "metadata": {},
   "outputs": [],
   "source": []
  },
  {
   "cell_type": "code",
   "execution_count": null,
   "metadata": {},
   "outputs": [],
   "source": []
  },
  {
   "cell_type": "code",
   "execution_count": null,
   "metadata": {},
   "outputs": [],
   "source": []
  },
  {
   "cell_type": "code",
   "execution_count": null,
   "metadata": {},
   "outputs": [],
   "source": []
  },
  {
   "cell_type": "code",
   "execution_count": null,
   "metadata": {},
   "outputs": [],
   "source": []
  },
  {
   "cell_type": "code",
   "execution_count": null,
   "metadata": {},
   "outputs": [],
   "source": []
  },
  {
   "cell_type": "code",
   "execution_count": null,
   "metadata": {},
   "outputs": [],
   "source": []
  },
  {
   "cell_type": "code",
   "execution_count": null,
   "metadata": {},
   "outputs": [],
   "source": []
  },
  {
   "cell_type": "code",
   "execution_count": null,
   "metadata": {},
   "outputs": [],
   "source": []
  },
  {
   "cell_type": "code",
   "execution_count": null,
   "metadata": {},
   "outputs": [],
   "source": []
  },
  {
   "cell_type": "code",
   "execution_count": null,
   "metadata": {},
   "outputs": [],
   "source": []
  },
  {
   "cell_type": "code",
   "execution_count": null,
   "metadata": {},
   "outputs": [],
   "source": []
  },
  {
   "cell_type": "code",
   "execution_count": null,
   "metadata": {},
   "outputs": [],
   "source": []
  },
  {
   "cell_type": "code",
   "execution_count": null,
   "metadata": {},
   "outputs": [],
   "source": [
    " "
   ]
  }
 ],
 "metadata": {
  "kernelspec": {
   "display_name": "Python 3",
   "language": "python",
   "name": "python3"
  },
  "language_info": {
   "codemirror_mode": {
    "name": "ipython",
    "version": 3
   },
   "file_extension": ".py",
   "mimetype": "text/x-python",
   "name": "python",
   "nbconvert_exporter": "python",
   "pygments_lexer": "ipython3",
   "version": "3.8.8"
  }
 },
 "nbformat": 4,
 "nbformat_minor": 4
}
