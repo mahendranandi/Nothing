{
 "cells": [
  {
   "cell_type": "markdown",
   "metadata": {},
   "source": [
    "# \n",
    "Mahendra Nandi \\\n",
    "[BDA,RKMVERI-2020](http://cs.rkmvu.ac.in/)"
   ]
  },
  {
   "cell_type": "markdown",
   "metadata": {},
   "source": [
    "# Question_2"
   ]
  },
  {
   "cell_type": "markdown",
   "metadata": {},
   "source": [
    "Consider a $2000\\times2000$ image I, where all pixels in the left half (first 1000 columns) are white and those in the right half (last 1000 columns) are black. A new image ($I_{new}$) of the same size is formed from I by shuffling the pixel locations. Let $D$ denotes the Euclidean distance between I and $I_{new}$. What is the total number of possible $I_{new}$ images? What is the average of $D$ across all these possible $I_{new}$ images? Explain your answer. *\n",
    "----------------\n"
   ]
  },
  {
   "cell_type": "markdown",
   "metadata": {},
   "source": []
  },
  {
   "cell_type": "code",
   "execution_count": 43,
   "metadata": {},
   "outputs": [
    {
     "name": "stdout",
     "output_type": "stream",
     "text": [
      "Requirement already satisfied: ipython-autotime in /home/sysadm/anaconda3/lib/python3.8/site-packages (0.3.1)\n",
      "Requirement already satisfied: ipython in /home/sysadm/anaconda3/lib/python3.8/site-packages (from ipython-autotime) (7.22.0)\n",
      "Requirement already satisfied: setuptools>=18.5 in /home/sysadm/anaconda3/lib/python3.8/site-packages (from ipython->ipython-autotime) (52.0.0.post20210125)\n",
      "Requirement already satisfied: jedi>=0.16 in /home/sysadm/anaconda3/lib/python3.8/site-packages (from ipython->ipython-autotime) (0.17.2)\n",
      "Requirement already satisfied: traitlets>=4.2 in /home/sysadm/anaconda3/lib/python3.8/site-packages (from ipython->ipython-autotime) (5.0.5)\n",
      "Requirement already satisfied: prompt-toolkit!=3.0.0,!=3.0.1,<3.1.0,>=2.0.0 in /home/sysadm/anaconda3/lib/python3.8/site-packages (from ipython->ipython-autotime) (3.0.17)\n",
      "Requirement already satisfied: pickleshare in /home/sysadm/anaconda3/lib/python3.8/site-packages (from ipython->ipython-autotime) (0.7.5)\n",
      "Requirement already satisfied: decorator in /home/sysadm/anaconda3/lib/python3.8/site-packages (from ipython->ipython-autotime) (5.0.6)\n",
      "Requirement already satisfied: pygments in /home/sysadm/anaconda3/lib/python3.8/site-packages (from ipython->ipython-autotime) (2.8.1)\n",
      "Requirement already satisfied: pexpect>4.3 in /home/sysadm/anaconda3/lib/python3.8/site-packages (from ipython->ipython-autotime) (4.8.0)\n",
      "Requirement already satisfied: backcall in /home/sysadm/anaconda3/lib/python3.8/site-packages (from ipython->ipython-autotime) (0.2.0)\n",
      "Requirement already satisfied: parso<0.8.0,>=0.7.0 in /home/sysadm/anaconda3/lib/python3.8/site-packages (from jedi>=0.16->ipython->ipython-autotime) (0.7.0)\n",
      "Requirement already satisfied: ptyprocess>=0.5 in /home/sysadm/anaconda3/lib/python3.8/site-packages (from pexpect>4.3->ipython->ipython-autotime) (0.7.0)\n",
      "Requirement already satisfied: wcwidth in /home/sysadm/anaconda3/lib/python3.8/site-packages (from prompt-toolkit!=3.0.0,!=3.0.1,<3.1.0,>=2.0.0->ipython->ipython-autotime) (0.2.5)\n",
      "Requirement already satisfied: ipython-genutils in /home/sysadm/anaconda3/lib/python3.8/site-packages (from traitlets>=4.2->ipython->ipython-autotime) (0.2.0)\n",
      "The autotime extension is already loaded. To reload it, use:\n",
      "  %reload_ext autotime\n",
      "time: 1.18 s (started: 2021-07-21 00:39:13 +05:30)\n"
     ]
    }
   ],
   "source": [
    "!pip install ipython-autotime\n",
    "\n",
    "%load_ext autotime"
   ]
  },
  {
   "cell_type": "code",
   "execution_count": 44,
   "metadata": {},
   "outputs": [
    {
     "name": "stdout",
     "output_type": "stream",
     "text": [
      "time: 1.51 ms (started: 2021-07-21 00:39:17 +05:30)\n"
     ]
    }
   ],
   "source": [
    "import numpy as np\n",
    "import math\n",
    "import matplotlib.pyplot as plt\n",
    "%matplotlib inline"
   ]
  },
  {
   "cell_type": "markdown",
   "metadata": {},
   "source": [
    "## Index value generated For a 4X4 Matrix"
   ]
  },
  {
   "cell_type": "code",
   "execution_count": 45,
   "metadata": {
    "scrolled": true
   },
   "outputs": [
    {
     "data": {
      "text/plain": [
       "array([[1, 1],\n",
       "       [1, 1],\n",
       "       [1, 1],\n",
       "       [1, 1]])"
      ]
     },
     "execution_count": 45,
     "metadata": {},
     "output_type": "execute_result"
    },
    {
     "name": "stdout",
     "output_type": "stream",
     "text": [
      "time: 3.04 ms (started: 2021-07-21 00:39:18 +05:30)\n"
     ]
    }
   ],
   "source": [
    "mat1=np.ones((4,2),dtype=np.int)\n",
    "mat1"
   ]
  },
  {
   "cell_type": "code",
   "execution_count": 46,
   "metadata": {},
   "outputs": [
    {
     "data": {
      "text/plain": [
       "array([[0, 0],\n",
       "       [0, 0],\n",
       "       [0, 0],\n",
       "       [0, 0]])"
      ]
     },
     "execution_count": 46,
     "metadata": {},
     "output_type": "execute_result"
    },
    {
     "name": "stdout",
     "output_type": "stream",
     "text": [
      "time: 2.87 ms (started: 2021-07-21 00:39:18 +05:30)\n"
     ]
    }
   ],
   "source": [
    "mat2=np.zeros((4,2),dtype=np.int)\n",
    "mat2"
   ]
  },
  {
   "cell_type": "code",
   "execution_count": 47,
   "metadata": {},
   "outputs": [
    {
     "name": "stdout",
     "output_type": "stream",
     "text": [
      "time: 543 µs (started: 2021-07-21 00:39:18 +05:30)\n"
     ]
    }
   ],
   "source": [
    "mat = np.concatenate((mat1,mat2),axis=1)"
   ]
  },
  {
   "cell_type": "code",
   "execution_count": 48,
   "metadata": {},
   "outputs": [
    {
     "data": {
      "text/plain": [
       "array([[1, 1, 0, 0],\n",
       "       [1, 1, 0, 0],\n",
       "       [1, 1, 0, 0],\n",
       "       [1, 1, 0, 0]])"
      ]
     },
     "execution_count": 48,
     "metadata": {},
     "output_type": "execute_result"
    },
    {
     "name": "stdout",
     "output_type": "stream",
     "text": [
      "time: 2.04 ms (started: 2021-07-21 00:39:18 +05:30)\n"
     ]
    }
   ],
   "source": [
    "mat"
   ]
  },
  {
   "cell_type": "code",
   "execution_count": 49,
   "metadata": {},
   "outputs": [
    {
     "data": {
      "text/plain": [
       "<matplotlib.image.AxesImage at 0x7ff6809812b0>"
      ]
     },
     "execution_count": 49,
     "metadata": {},
     "output_type": "execute_result"
    },
    {
     "data": {
      "image/png": "[encoded data removed]",
      "text/plain": [
       "<Figure size 432x288 with 1 Axes>"
      ]
     },
     "metadata": {
      "needs_background": "light"
     },
     "output_type": "display_data"
    },
    {
     "name": "stdout",
     "output_type": "stream",
     "text": [
      "time: 72.4 ms (started: 2021-07-21 00:39:18 +05:30)\n"
     ]
    }
   ],
   "source": [
    "plt.imshow(mat,cmap=\"gray\")"
   ]
  },
  {
   "cell_type": "code",
   "execution_count": 50,
   "metadata": {},
   "outputs": [
    {
     "data": {
      "text/plain": [
       "(4, 4)"
      ]
     },
     "execution_count": 50,
     "metadata": {},
     "output_type": "execute_result"
    },
    {
     "name": "stdout",
     "output_type": "stream",
     "text": [
      "time: 1.87 ms (started: 2021-07-21 00:39:19 +05:30)\n"
     ]
    }
   ],
   "source": [
    "mat.shape"
   ]
  },
  {
   "cell_type": "code",
   "execution_count": 51,
   "metadata": {
    "tags": []
   },
   "outputs": [
    {
     "data": {
      "text/plain": [
       "[[0, 0],\n",
       " [0, 1],\n",
       " [0, 2],\n",
       " [0, 3],\n",
       " [1, 0],\n",
       " [1, 1],\n",
       " [1, 2],\n",
       " [1, 3],\n",
       " [2, 0],\n",
       " [2, 1],\n",
       " [2, 2],\n",
       " [2, 3],\n",
       " [3, 0],\n",
       " [3, 1],\n",
       " [3, 2],\n",
       " [3, 3]]"
      ]
     },
     "execution_count": 51,
     "metadata": {},
     "output_type": "execute_result"
    },
    {
     "name": "stdout",
     "output_type": "stream",
     "text": [
      "time: 3.35 ms (started: 2021-07-21 00:39:19 +05:30)\n"
     ]
    }
   ],
   "source": [
    "A=[]\n",
    "for i in range(4):\n",
    "    for j in range(4):\n",
    "        A.append([i,j])\n",
    "A        "
   ]
  },
  {
   "cell_type": "code",
   "execution_count": 52,
   "metadata": {
    "jupyter": {
     "outputs_hidden": true
    },
    "tags": []
   },
   "outputs": [
    {
     "name": "stdout",
     "output_type": "stream",
     "text": [
      "time: 190 µs (started: 2021-07-21 00:39:19 +05:30)\n"
     ]
    }
   ],
   "source": [
    "# B=[]\n",
    "# for i in range (len(A)):\n",
    "#     for j in range(i+1,len(A)):\n",
    "#         B.append([A[i][0],A[i][1],A[j][0],A[j][1]])\n",
    "\n",
    "# #len(B)\n",
    "# B"
   ]
  },
  {
   "cell_type": "code",
   "execution_count": null,
   "metadata": {},
   "outputs": [],
   "source": []
  },
  {
   "cell_type": "markdown",
   "metadata": {},
   "source": [
    "### Distance Vector Generated"
   ]
  },
  {
   "cell_type": "markdown",
   "metadata": {},
   "source": [
    "## Functional Representation"
   ]
  },
  {
   "cell_type": "code",
   "execution_count": 53,
   "metadata": {},
   "outputs": [
    {
     "name": "stdout",
     "output_type": "stream",
     "text": [
      "time: 500 µs (started: 2021-07-21 00:39:20 +05:30)\n"
     ]
    }
   ],
   "source": [
    "def Distance_Generation(image_height,image_width):\n",
    "    \"\"\"\n",
    "    image_height: Height of the image\n",
    "    image_width: Width of the image\n",
    "    \"\"\"\n",
    "    Dist=[]\n",
    "    r=image_height*image_width\n",
    "    m=np.int(r/2+1)\n",
    "    for i in range(m):\n",
    "        Dist.append(np.sqrt(i*2))\n",
    "    return Dist"
   ]
  },
  {
   "cell_type": "markdown",
   "metadata": {},
   "source": [
    "### Number Of Candidate Points "
   ]
  },
  {
   "cell_type": "code",
   "execution_count": 54,
   "metadata": {},
   "outputs": [
    {
     "name": "stdout",
     "output_type": "stream",
     "text": [
      "time: 526 µs (started: 2021-07-21 00:39:20 +05:30)\n"
     ]
    }
   ],
   "source": [
    "def Candidate_Points(image_height,image_width):\n",
    "    \"\"\"\n",
    "    image_height: Height of the image\n",
    "    image_width: Width of the image\n",
    "    \"\"\"\n",
    "    r=image_height*image_width\n",
    "    Candidates=[]\n",
    "    m=np.int(r/2+1)\n",
    "    for i in range(m):\n",
    "        Candidates.append((math.comb(np.int(r/2),i))**2)\n",
    "    return Candidates"
   ]
  },
  {
   "cell_type": "markdown",
   "metadata": {},
   "source": [
    "## Average Euclidean Distance"
   ]
  },
  {
   "cell_type": "code",
   "execution_count": 55,
   "metadata": {},
   "outputs": [
    {
     "name": "stdout",
     "output_type": "stream",
     "text": [
      "time: 530 µs (started: 2021-07-21 00:39:20 +05:30)\n"
     ]
    }
   ],
   "source": [
    "def avg_euclidean_dist(image_height,image_width):\n",
    "    \"\"\"\n",
    "    image_height: Height of the image\n",
    "    image_width: Width of the image\n",
    "    \"\"\"\n",
    "    dist=Distance_Generation(image_height,image_width)\n",
    "    cand=Candidate_Points(image_height,image_width)\n",
    "    k=list(np.array(dist)*np.array(cand))\n",
    "    total=(math.factorial(image_height*image_width)/np.square(math.factorial((image_height*image_width)/2)))\n",
    "    return sum(k)/total"
   ]
  },
  {
   "cell_type": "code",
   "execution_count": 56,
   "metadata": {},
   "outputs": [
    {
     "data": {
      "text/plain": [
       "2.803079012737049"
      ]
     },
     "execution_count": 56,
     "metadata": {},
     "output_type": "execute_result"
    },
    {
     "name": "stdout",
     "output_type": "stream",
     "text": [
      "time: 1.91 ms (started: 2021-07-21 00:39:20 +05:30)\n"
     ]
    }
   ],
   "source": [
    "avg_euclidean_dist(4,4)"
   ]
  },
  {
   "cell_type": "code",
   "execution_count": 57,
   "metadata": {},
   "outputs": [
    {
     "data": {
      "text/plain": [
       "[0.0,\n",
       " 1.4142135623730951,\n",
       " 2.0,\n",
       " 2.449489742783178,\n",
       " 2.8284271247461903,\n",
       " 3.1622776601683795,\n",
       " 3.4641016151377544,\n",
       " 3.7416573867739413,\n",
       " 4.0]"
      ]
     },
     "execution_count": 57,
     "metadata": {},
     "output_type": "execute_result"
    },
    {
     "name": "stdout",
     "output_type": "stream",
     "text": [
      "time: 2.15 ms (started: 2021-07-21 00:39:21 +05:30)\n"
     ]
    }
   ],
   "source": [
    "Distance_Generation(4,4)"
   ]
  },
  {
   "cell_type": "code",
   "execution_count": null,
   "metadata": {},
   "outputs": [],
   "source": []
  },
  {
   "cell_type": "markdown",
   "metadata": {},
   "source": [
    "# in one function "
   ]
  },
  {
   "cell_type": "code",
   "execution_count": null,
   "metadata": {},
   "outputs": [],
   "source": []
  },
  {
   "cell_type": "markdown",
   "metadata": {},
   "source": [
    "$ $\n"
   ]
  },
  {
   "cell_type": "markdown",
   "metadata": {},
   "source": [
    "Initially I have put the following example for easy understand, taking an image of 2x2 and showing the algorithm. and at the last porting I explained the ${(^{n^2 /2}C_i)}^2$ term as well with taking another example of 4x4 image.\n",
    "<img src=\"solution.jpeg\">\n",
    "\n",
    "So, in general for an image nxn where n is even, the problem reduced to:\n",
    "\n",
    "\n",
    "$$\\Bigg[ \\frac{sum([ \\ 0,\\sqrt{2},\\sqrt{4},\\sqrt{6},..,\\sqrt{n^2} \\ ]*[(^{n^2/2}C_0)^2,(^{n^2/2}C_1)^2,(^{n^2/2}C_2)^2,(^{n^2/2}C_3)^2,..,(^{n^2/2}C_{^{n^2/2}} ] )}  {\\frac{(n^2!)} {(n^2/2!)(n^2/2!)}}  \\Bigg]$$ (* denotes point wise multiplication of those two lists)\n",
    "\n",
    "\n",
    " $$= \\displaystyle \\Bigg[\\frac{\\sum \\limits _{i=0} ^{n^2/2} (^{n^2/2}C_i)^2 \\sqrt{2i}}   {\\sum \\limits _{i=0} ^{n^2/2} (^{n^2/2}C_i)^2}\\Bigg]$$"
   ]
  },
  {
   "cell_type": "code",
   "execution_count": null,
   "metadata": {},
   "outputs": [],
   "source": []
  },
  {
   "cell_type": "code",
   "execution_count": 58,
   "metadata": {},
   "outputs": [
    {
     "name": "stdout",
     "output_type": "stream",
     "text": [
      "time: 821 µs (started: 2021-07-21 00:39:21 +05:30)\n"
     ]
    }
   ],
   "source": [
    "import numpy as np\n",
    "import math\n",
    "\n",
    "# we are using here images with same height and width. So, here image_dimension = n if image is of nxn dims.\n",
    "# Distances is a list of Euclidean distances of every 'I_new' vectors from 'I' vector.\n",
    "# Candidates is another list containing the no of vectors having same distance (accordance with the list 'Distances')\n",
    "#      so, the length of these two lists are same.\n",
    "def get_average_distance(image_dimension):\n",
    "    \n",
    "    Distances=[]\n",
    "    Candidates=[]\n",
    "    no_of_pixels=image_dimension*image_dimension\n",
    "    m=np.int((no_of_pixels/2) + 1)\n",
    "    for i in range(m):\n",
    "        Distances.append(np.sqrt(i*2))\n",
    "#     print(\"Distances = {}\".format(Distances))\n",
    "    for i in range(m):\n",
    "        Candidates.append((math.comb(np.int(no_of_pixels/2),i))**2)\n",
    "#     print(\"\\nCandidates = {}\".format(Candidates))\n",
    "    total_distances=list(np.array(Distances)*np.array(Candidates))\n",
    "#     print(\"\\ntotal_distances = {}\".format(total_distances))\n",
    "    no_of_total_vector=int(math.factorial(no_of_pixels)/np.square(math.factorial((no_of_pixels)/2)))\n",
    "#     print(\"\\n\\nno_of_total_vector = {}\".format(sum(Candidates)))\n",
    "    if no_of_total_vector == sum(Candidates):\n",
    "        print(\"\\n\\nYou have done correct calculation.\\nThe total no of possible image vector after shuffle is : {}\".format(int(sum(Candidates))))\n",
    "    return print(\"\\n\\nThe average Euclidean distance of 'I_new' from 'I' is : {:.3f}\".format(sum(total_distances)/sum(Candidates)))"
   ]
  },
  {
   "cell_type": "code",
   "execution_count": 59,
   "metadata": {},
   "outputs": [
    {
     "name": "stdout",
     "output_type": "stream",
     "text": [
      "\n",
      "\n",
      "You have done correct calculation.\n",
      "The total no of possible image vector after shuffle is : 6\n",
      "\n",
      "\n",
      "The average Euclidean distance of 'I_new' from 'I' is : 1.276\n",
      "time: 595 µs (started: 2021-07-21 00:39:22 +05:30)\n"
     ]
    }
   ],
   "source": [
    "get_average_distance(2)"
   ]
  },
  {
   "cell_type": "code",
   "execution_count": 60,
   "metadata": {},
   "outputs": [
    {
     "name": "stdout",
     "output_type": "stream",
     "text": [
      "\n",
      "\n",
      "You have done correct calculation.\n",
      "The total no of possible image vector after shuffle is : 12870\n",
      "\n",
      "\n",
      "The average Euclidean distance of 'I_new' from 'I' is : 2.803\n",
      "time: 551 µs (started: 2021-07-21 00:39:22 +05:30)\n"
     ]
    }
   ],
   "source": [
    "get_average_distance(4)"
   ]
  },
  {
   "cell_type": "code",
   "execution_count": 61,
   "metadata": {},
   "outputs": [
    {
     "name": "stdout",
     "output_type": "stream",
     "text": [
      "\n",
      "\n",
      "The average Euclidean distance of 'I_new' from 'I' is : 4.227\n",
      "time: 575 µs (started: 2021-07-21 00:39:22 +05:30)\n"
     ]
    }
   ],
   "source": [
    "get_average_distance(6)"
   ]
  },
  {
   "cell_type": "code",
   "execution_count": 62,
   "metadata": {},
   "outputs": [
    {
     "name": "stdout",
     "output_type": "stream",
     "text": [
      "\n",
      "\n",
      "The average Euclidean distance of 'I_new' from 'I' is : 5.645\n",
      "time: 903 µs (started: 2021-07-21 00:39:22 +05:30)\n"
     ]
    }
   ],
   "source": [
    "get_average_distance(8)"
   ]
  },
  {
   "cell_type": "code",
   "execution_count": 63,
   "metadata": {
    "scrolled": true
   },
   "outputs": [
    {
     "name": "stdout",
     "output_type": "stream",
     "text": [
      "\n",
      "\n",
      "The average Euclidean distance of 'I_new' from 'I' is : 22.625\n",
      "time: 14.3 ms (started: 2021-07-21 00:39:23 +05:30)\n"
     ]
    }
   ],
   "source": [
    "get_average_distance(32)"
   ]
  },
  {
   "cell_type": "code",
   "execution_count": 64,
   "metadata": {},
   "outputs": [
    {
     "name": "stdout",
     "output_type": "stream",
     "text": [
      "time: 147 µs (started: 2021-07-21 00:39:23 +05:30)\n"
     ]
    }
   ],
   "source": [
    "# another short function "
   ]
  },
  {
   "cell_type": "code",
   "execution_count": 65,
   "metadata": {},
   "outputs": [
    {
     "name": "stdout",
     "output_type": "stream",
     "text": [
      "time: 836 µs (started: 2021-07-21 00:39:23 +05:30)\n"
     ]
    }
   ],
   "source": [
    "import numpy as np\n",
    "import math\n",
    "\n",
    "# we are using here images with same height and width. So, here image_dimension = n if image is of nxn dims.\n",
    "# Total_vectors is a list of no of vectors having same Euclidean distances from 'I' vector.\n",
    "# Total_distances is another list containing the total distance for group of vectors having same distance (accordance with the list 'Distances')\n",
    "#      so, the length of these two lists are same.\n",
    "def get_average_distance(image_dimension):\n",
    "    no_of_pixels=int(image_dimension*image_dimension)\n",
    "    m=np.int((no_of_pixels/2) + 1)\n",
    "    Total_distances=[]\n",
    "    Total_vectors=[]\n",
    "    for i in range(m):\n",
    "        Total_distances.append(round(((math.comb(np.int(no_of_pixels/2),i))**2) * (np.sqrt(2*i)) ,3))\n",
    "        Total_vectors.append(((math.comb(np.int(no_of_pixels/2),i))**2))\n",
    "    return round(sum(Total_distances)/sum(Total_vectors),3)\n",
    "\n",
    "# here we can calculate for an image of maximum dimension 32x32 , above that we have to go for approximation for values otherwise"
   ]
  },
  {
   "cell_type": "code",
   "execution_count": 66,
   "metadata": {},
   "outputs": [
    {
     "data": {
      "text/plain": [
       "22.625"
      ]
     },
     "execution_count": 66,
     "metadata": {},
     "output_type": "execute_result"
    },
    {
     "name": "stdout",
     "output_type": "stream",
     "text": [
      "time: 30.8 ms (started: 2021-07-21 00:39:23 +05:30)\n"
     ]
    }
   ],
   "source": [
    "get_average_distance(32)"
   ]
  },
  {
   "cell_type": "code",
   "execution_count": 67,
   "metadata": {
    "scrolled": false
   },
   "outputs": [
    {
     "name": "stderr",
     "output_type": "stream",
     "text": [
      "<ipython-input-65-c30385329cee>:14: RuntimeWarning: overflow encountered in multiply\n",
      "  Total_distances.append(round(((math.comb(np.int(no_of_pixels/2),i))**2) * (np.sqrt(2*i)) ,3))\n"
     ]
    },
    {
     "ename": "OverflowError",
     "evalue": "int too large to convert to float",
     "output_type": "error",
     "traceback": [
      "\u001b[0;31m---------------------------------------------------------------------------\u001b[0m",
      "\u001b[0;31mOverflowError\u001b[0m                             Traceback (most recent call last)",
      "\u001b[0;32m<ipython-input-67-f95f1d205a85>\u001b[0m in \u001b[0;36m<module>\u001b[0;34m\u001b[0m\n\u001b[0;32m----> 1\u001b[0;31m \u001b[0mget_average_distance\u001b[0m\u001b[0;34m(\u001b[0m\u001b[0;36m34\u001b[0m\u001b[0;34m)\u001b[0m\u001b[0;34m\u001b[0m\u001b[0;34m\u001b[0m\u001b[0m\n\u001b[0m",
      "\u001b[0;32m<ipython-input-65-c30385329cee>\u001b[0m in \u001b[0;36mget_average_distance\u001b[0;34m(image_dimension)\u001b[0m\n\u001b[1;32m     12\u001b[0m     \u001b[0mTotal_vectors\u001b[0m\u001b[0;34m=\u001b[0m\u001b[0;34m[\u001b[0m\u001b[0;34m]\u001b[0m\u001b[0;34m\u001b[0m\u001b[0;34m\u001b[0m\u001b[0m\n\u001b[1;32m     13\u001b[0m     \u001b[0;32mfor\u001b[0m \u001b[0mi\u001b[0m \u001b[0;32min\u001b[0m \u001b[0mrange\u001b[0m\u001b[0;34m(\u001b[0m\u001b[0mm\u001b[0m\u001b[0;34m)\u001b[0m\u001b[0;34m:\u001b[0m\u001b[0;34m\u001b[0m\u001b[0;34m\u001b[0m\u001b[0m\n\u001b[0;32m---> 14\u001b[0;31m         \u001b[0mTotal_distances\u001b[0m\u001b[0;34m.\u001b[0m\u001b[0mappend\u001b[0m\u001b[0;34m(\u001b[0m\u001b[0mround\u001b[0m\u001b[0;34m(\u001b[0m\u001b[0;34m(\u001b[0m\u001b[0;34m(\u001b[0m\u001b[0mmath\u001b[0m\u001b[0;34m.\u001b[0m\u001b[0mcomb\u001b[0m\u001b[0;34m(\u001b[0m\u001b[0mnp\u001b[0m\u001b[0;34m.\u001b[0m\u001b[0mint\u001b[0m\u001b[0;34m(\u001b[0m\u001b[0mno_of_pixels\u001b[0m\u001b[0;34m/\u001b[0m\u001b[0;36m2\u001b[0m\u001b[0;34m)\u001b[0m\u001b[0;34m,\u001b[0m\u001b[0mi\u001b[0m\u001b[0;34m)\u001b[0m\u001b[0;34m)\u001b[0m\u001b[0;34m**\u001b[0m\u001b[0;36m2\u001b[0m\u001b[0;34m)\u001b[0m \u001b[0;34m*\u001b[0m \u001b[0;34m(\u001b[0m\u001b[0mnp\u001b[0m\u001b[0;34m.\u001b[0m\u001b[0msqrt\u001b[0m\u001b[0;34m(\u001b[0m\u001b[0;36m2\u001b[0m\u001b[0;34m*\u001b[0m\u001b[0mi\u001b[0m\u001b[0;34m)\u001b[0m\u001b[0;34m)\u001b[0m \u001b[0;34m,\u001b[0m\u001b[0;36m3\u001b[0m\u001b[0;34m)\u001b[0m\u001b[0;34m)\u001b[0m\u001b[0;34m\u001b[0m\u001b[0;34m\u001b[0m\u001b[0m\n\u001b[0m\u001b[1;32m     15\u001b[0m         \u001b[0mTotal_vectors\u001b[0m\u001b[0;34m.\u001b[0m\u001b[0mappend\u001b[0m\u001b[0;34m(\u001b[0m\u001b[0;34m(\u001b[0m\u001b[0;34m(\u001b[0m\u001b[0mmath\u001b[0m\u001b[0;34m.\u001b[0m\u001b[0mcomb\u001b[0m\u001b[0;34m(\u001b[0m\u001b[0mnp\u001b[0m\u001b[0;34m.\u001b[0m\u001b[0mint\u001b[0m\u001b[0;34m(\u001b[0m\u001b[0mno_of_pixels\u001b[0m\u001b[0;34m/\u001b[0m\u001b[0;36m2\u001b[0m\u001b[0;34m)\u001b[0m\u001b[0;34m,\u001b[0m\u001b[0mi\u001b[0m\u001b[0;34m)\u001b[0m\u001b[0;34m)\u001b[0m\u001b[0;34m**\u001b[0m\u001b[0;36m2\u001b[0m\u001b[0;34m)\u001b[0m\u001b[0;34m)\u001b[0m\u001b[0;34m\u001b[0m\u001b[0;34m\u001b[0m\u001b[0m\n\u001b[1;32m     16\u001b[0m     \u001b[0;32mreturn\u001b[0m \u001b[0mround\u001b[0m\u001b[0;34m(\u001b[0m\u001b[0msum\u001b[0m\u001b[0;34m(\u001b[0m\u001b[0mTotal_distances\u001b[0m\u001b[0;34m)\u001b[0m\u001b[0;34m/\u001b[0m\u001b[0msum\u001b[0m\u001b[0;34m(\u001b[0m\u001b[0mTotal_vectors\u001b[0m\u001b[0;34m)\u001b[0m\u001b[0;34m,\u001b[0m\u001b[0;36m3\u001b[0m\u001b[0;34m)\u001b[0m\u001b[0;34m\u001b[0m\u001b[0;34m\u001b[0m\u001b[0m\n",
      "\u001b[0;31mOverflowError\u001b[0m: int too large to convert to float"
     ]
    },
    {
     "name": "stdout",
     "output_type": "stream",
     "text": [
      "time: 18.8 ms (started: 2021-07-21 00:39:24 +05:30)\n"
     ]
    }
   ],
   "source": [
    "get_average_distance(34)"
   ]
  },
  {
   "cell_type": "code",
   "execution_count": null,
   "metadata": {},
   "outputs": [],
   "source": []
  },
  {
   "cell_type": "code",
   "execution_count": null,
   "metadata": {},
   "outputs": [],
   "source": []
  },
  {
   "cell_type": "code",
   "execution_count": null,
   "metadata": {},
   "outputs": [],
   "source": []
  },
  {
   "cell_type": "code",
   "execution_count": null,
   "metadata": {},
   "outputs": [],
   "source": []
  },
  {
   "cell_type": "code",
   "execution_count": null,
   "metadata": {},
   "outputs": [],
   "source": []
  },
  {
   "cell_type": "code",
   "execution_count": null,
   "metadata": {},
   "outputs": [],
   "source": []
  },
  {
   "cell_type": "code",
   "execution_count": null,
   "metadata": {},
   "outputs": [],
   "source": []
  },
  {
   "cell_type": "code",
   "execution_count": null,
   "metadata": {},
   "outputs": [],
   "source": []
  },
  {
   "cell_type": "code",
   "execution_count": null,
   "metadata": {},
   "outputs": [],
   "source": []
  },
  {
   "cell_type": "code",
   "execution_count": null,
   "metadata": {},
   "outputs": [],
   "source": []
  },
  {
   "cell_type": "code",
   "execution_count": null,
   "metadata": {},
   "outputs": [],
   "source": []
  },
  {
   "cell_type": "code",
   "execution_count": null,
   "metadata": {},
   "outputs": [],
   "source": []
  },
  {
   "cell_type": "code",
   "execution_count": null,
   "metadata": {},
   "outputs": [],
   "source": [
    "# Another problem not related to the above question"
   ]
  },
  {
   "attachments": {
    "image1.png": {
     "image/png": "[encoded data removed]"
    }
   },
   "cell_type": "markdown",
   "metadata": {},
   "source": [
    "A number spiral is an infinite grid whose upper-left square has number 1. Here are the first five layers of the spiral:\n",
    "![image.png](attachment:image.png)\n",
    "Your task is to find out the number in row y and column x.\n",
    "---------\n"
   ]
  },
  {
   "cell_type": "code",
   "execution_count": 68,
   "metadata": {},
   "outputs": [
    {
     "data": {
      "text/plain": [
       "18"
      ]
     },
     "execution_count": 68,
     "metadata": {},
     "output_type": "execute_result"
    },
    {
     "name": "stdout",
     "output_type": "stream",
     "text": [
      "time: 2.92 ms (started: 2021-07-21 00:39:25 +05:30)\n"
     ]
    }
   ],
   "source": [
    "x=5\n",
    "y=2\n",
    "    \n",
    "if x%2==0:\n",
    "    if y<x:\n",
    "        value=(x**2)-(y-1)\n",
    "    else:\n",
    "        if y%2==0:\n",
    "            value= ((y-1)**2)+x\n",
    "        else:\n",
    "            value= (y**2)-(x-1)\n",
    "else:\n",
    "    if y<x:\n",
    "        value=((x-1)**2)+y\n",
    "    else:\n",
    "        if y%2==0:\n",
    "            value= ((y-1)**2)+x\n",
    "        else:\n",
    "            value= (y**2)-(x-1)\n",
    "value"
   ]
  },
  {
   "cell_type": "code",
   "execution_count": 39,
   "metadata": {},
   "outputs": [],
   "source": [
    "# ANother approach\n",
    "x=5\n",
    "y=2\n",
    "# for i in range(x):\n",
    "#     for j in range(y):\n",
    "       \n",
    "def get_value(x,y):    \n",
    "    if x<y:\n",
    "        if y%2==0:\n",
    "            value= ((y-1)**2)+x\n",
    "        else:\n",
    "            value= (y**2)-(x-1)\n",
    "    else:\n",
    "        if x%2==0:\n",
    "            value=(x**2)-(y-1)\n",
    "        else:\n",
    "            value=((x-1)**2)+y\n",
    "    return value"
   ]
  },
  {
   "cell_type": "code",
   "execution_count": 42,
   "metadata": {},
   "outputs": [
    {
     "data": {
      "text/plain": [
       "23"
      ]
     },
     "execution_count": 42,
     "metadata": {},
     "output_type": "execute_result"
    },
    {
     "name": "stdout",
     "output_type": "stream",
     "text": [
      "time: 1.9 ms (started: 2021-07-21 00:37:41 +05:30)\n"
     ]
    }
   ],
   "source": [
    "\n",
    "get_value(3,5)"
   ]
  },
  {
   "cell_type": "code",
   "execution_count": null,
   "metadata": {},
   "outputs": [],
   "source": []
  }
 ],
 "metadata": {
  "kernelspec": {
   "display_name": "Python 3",
   "language": "python",
   "name": "python3"
  },
  "language_info": {
   "codemirror_mode": {
    "name": "ipython",
    "version": 3
   },
   "file_extension": ".py",
   "mimetype": "text/x-python",
   "name": "python",
   "nbconvert_exporter": "python",
   "pygments_lexer": "ipython3",
   "version": "3.8.8"
  }
 },
 "nbformat": 4,
 "nbformat_minor": 4
}
